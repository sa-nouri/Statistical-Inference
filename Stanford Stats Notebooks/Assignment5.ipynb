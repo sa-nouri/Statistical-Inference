{
 "cells": [
  {
   "cell_type": "markdown",
   "metadata": {},
   "source": [
    "# Question 1\n",
    "\n",
    "Fot this problem, use the HIV resistance data in the penalized regression slides.\n",
    "\n",
    "1. Randomly split the data in half. \n",
    "\n",
    "2. Using the first half of the data, fit the LASSO with cross-validation using `cv.glmnet`. Extract the coefficients at `lambda.min` and `lambda.1se`. Are the estimates sparse or are all coefficients non-zero? (Answer will depend somewhat on the seed you use -- set an integer seed and save it.)\n",
    "\n",
    "3. Using the variables selected on the first half of the data, fit a model using `lm` on the second half of the data and report confidence intervals for the regression parameters in the model with the selected features. You can find the mutation names identified by position and amino acid here: [http://stats191.stanford.edu/data/NRTI_muts.txt](http://stats191.stanford.edu/data/NRTI_muts.txt).\n"
   ]
  },
  {
   "cell_type": "markdown",
   "metadata": {},
   "source": [
    "# Question 2\n",
    "\n",
    "In this question we will use the same data generating function from Q.5 of Assignment 4, i.e. a noisy version of `lpsa` of `data(prostate)` with `k=20` junk features. Below we will ask for `k=50` junk features as well. \n",
    "\n",
    "1. Generate noise as in Q.5 of Assignment 4 with 20 junk features. Randomly split the data in half.\n",
    "\n",
    "2. Using the first half of the data: fit the LASSO with parameter `lambda.1se` as selected by `cv.glmnet`, store the coefficients in a vector `beta.lasso`; do the same but for ridge regression storing the result in `beta.ridge`.\n",
    "\n",
    "3. Evaluate how well `beta.lasso` and `beta.ridge` predict on the second half of the data using mean squared error. Which one has smaller mean-squared error? (Answer will depend somewhat on the seed you use.)\n",
    "\n",
    "4. Repeat steps 1.-3. using `k=50` junk features. "
   ]
  },
  {
   "cell_type": "markdown",
   "metadata": {},
   "source": [
    "# Question 3 (Based on RABE 12.3)\n",
    "\n",
    "The O-rings in the booster rockets used in space launching play an important part in preventing rockets from exploding. Probabilities of O-ring failures are thought to be related to temperature. The data from 23 flights are given in [this file](http://stats191.stanford.edu/data/Orings.table)\n",
    "\n",
    "For each flight we have an indicator of whether or not any O-rings were damaged and the temperature of the launch.\n",
    "\n",
    "1. Fit a logistic regression, modeling the probability of having any O-ring failures based on the temperature of the launch. Interpret the coefficients in terms of odds ratios.\n",
    "\n",
    "2. From the fitted model, find the probability of an O-ring failure when the temperature at launch was 31 degrees. This was the temperature forecast for the day of the launching of the fatal Challenger flight on January 20, 1986.\n",
    "\n",
    "3. Find an approximate 95% confidence interval for the coefficient of temperature in the logistic regression using both the `summary` and `confint`. Are the confidence intervals the same? Why or why not?"
   ]
  },
  {
   "cell_type": "markdown",
   "metadata": {},
   "source": [
    "# Question 4 (Based on RABE 12.5)\n",
    "\n",
    "\n",
    "[Table 1.12](http://www1.aucegypt.edu/faculty/hadi/RABE5/Data5/P014.txt) of the textbook \n",
    "describes variables in a study of health care in 52 health care facilities in New Mexico \n",
    "in the year 1988. The variables collected are:\n",
    "\n",
    "Variable | Description\n",
    "---------|-------------\n",
    "RURAL    | Is hospital in a rural or non-rural area?\n",
    "BED      | Number of beds in facility.\n",
    "MCDAYS   | Annual medical in-patient days (hundreds).\n",
    "TDAYS    | Annual total patient days (hundreds).\n",
    "PCREV    | Annual total patient care revenue (\\$100).\n",
    "NSAL     | Annual nursing salaries (\\$100).\n",
    "FEXP     | Annual facilities expenditures (\\$100).\n",
    "NETREV   | PCREV - NSAL - FEXP\n",
    "\n",
    "1. Using a logistic regression model, test the null hypothesis that the measured covariates have no power to distinguish between rural facilities and than non-rural facilities. Use level $\\alpha=0.05$.\n",
    "\n",
    "2. Use a model selection technique based on AIC to choose a model that seems to best describe\n",
    "the outcome `RURAL` based on the measured covariates. \n",
    "\n",
    "3. Repeat 2. but using BIC instead. Is the model the same?\n",
    "\n",
    "4. Report estimates of the parameters for the variables in your final model. How are these\n",
    "to be interpreted? \n",
    "\n",
    "5. Report confidence intervals for the parameters in 4. Do you think you can trust these intervals?"
   ]
  }
 ],
 "metadata": {
  "anaconda-cloud": {},
  "kernelspec": {
   "display_name": "R",
   "language": "R",
   "name": "ir"
  },
  "language_info": {
   "codemirror_mode": "r",
   "file_extension": ".r",
   "mimetype": "text/x-r-source",
   "name": "R",
   "pygments_lexer": "r",
   "version": "3.3.3"
  }
 },
 "nbformat": 4,
 "nbformat_minor": 1
}
