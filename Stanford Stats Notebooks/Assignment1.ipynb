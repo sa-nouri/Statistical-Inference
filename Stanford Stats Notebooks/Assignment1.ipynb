{
 "cells": [
  {
   "cell_type": "markdown",
   "metadata": {},
   "source": [
    "# Question 1\n",
    "\n",
    "On Groundhog Day, February 2, a famous groundhog in Punxsutawney, PA is used to predict whether a winter will be long or not based on whether or not he sees his shadow. I collected data on whether he saw his shadow or not from [here](http://www.stormfax.com/ghogday.htm). I stored some of this data in this [table](http://stats191.stanford.edu/data/groundhog.table).\n",
    "\n",
    "Although Phil is on the East Coast,\n",
    "I wondered if the information says anything about whether or not we will experience\n",
    "a rainy winter out here in California. For this, I found rainfall data, and saved it in a \n",
    "[table](http://stats191.stanford.edu/data/rainfall.csv). To see how this was extracted\n",
    "see this [notebook](http://nbviewer.ipython.org/url/www.stanford.edu/class/stats191/notebooks/Rainfall_data.ipynb).\n",
    "\n",
    "1. Make a boxplot of the mean monthly rainfall (total annual rainfall divided by 12 months) rainfall in Northern California comparing the years Phil sees his shadow versus the years he does not. In Piazza, some people used February instead of mean monthly rainfall. This is OK as well.\n",
    "\n",
    "2. Construct a 93% confidence interval for the difference between the mean monthly rainfall (total annual rainfall divided by 12 months) in years Phil sees his shadow and years he does not. What assumptions / model are you using?\n",
    "\n",
    "3. Interpret the procedure used to construct in part 2. What do we really know about confidence intervals?\n",
    "\n",
    "4. At level, $\\alpha = 0.05$ would you reject the null hypothesis that the average rainfall in Northern California during the month of February was the same in years Phil sees his shadow versus years he does not?\n",
    "\n",
    "5. What assumptions are you making in forming your confidence interval and in your hypothesis test?"
   ]
  },
  {
   "cell_type": "markdown",
   "metadata": {},
   "source": [
    "# Question 2\n",
    "\n",
    "In Question 1, part 4 above, you are asked to carry out a hypothesis test. In part 5, you are asked to justify your confidence interval and hypothesis test. Both are typically based on a $T$ statistic of some form. \n",
    "\n",
    "1. Write functions in `R` to generate new data sets for the\n",
    "two different groups of years, calling them `shadow` and `noshadow`. The functions should be such that you \n",
    "can specify the average rainfall within the two years separately, as well as the variability of the rainfall\n",
    "within those years (for example, you might use `rnorm` with different mean and variance parameters).\n",
    "\n",
    "2. Using your two functions above, simulate data under the null hypothesis that the data from `shadow` years is the same as the data from `noshadow` years, computing the $T$ statistic each time. Plot a density of a sample of 5000 such $T$ statistics, overlaying it with a \"true\" density that holds under the null hypothesis. Explain how these densities relate to the test you carried out in Question 1, part 4.\n",
    "\n",
    "3. Again using the same two functions, simulate data under the null hypothesis that the average rainfall from `shadow` years is the same as the average rainfall from `noshadow` years, allowing for the possibility that the variability of the average is different among the two groups. The function `t.test` allows specifying `var.equal` to be true or false. Compare the density of the $T$ statistics when the variability is not the same within the two groups. There are 4 possibilities (2 choices of variances for `shadow` and `noshadow`, and setting `var.equal` to be `TRUE` or `FALSE`). So we should see 4 histograms possibly comparing to the \"true\" density of part 2."
   ]
  },
  {
   "cell_type": "markdown",
   "metadata": {},
   "source": [
    "# Question 3 \n",
    "\n",
    "The data set `walleye` in the package `alr4` (remember you may have to run `install.packages(\"alr4\")`) of data\n",
    "measured on walleye fish in Wisconsin.\n",
    "\n",
    "1. Create a boxplot of `length`, for `age` in `5:8`.\n",
    "\n",
    "2. Compute the sample mean, sample standard deviation `length` in the four groups.\n",
    "\n",
    "3. Create a histogram of `length` within `age` of  `5:8` putting the plots in a 2x2 grid in one file.\n",
    "\n",
    "4. Compute a 95% confidence interval for the difference in `length` in years 5 and 7. What assumptions are you making?\n",
    "\n",
    "5. At level $\\alpha=10\\%$, test the null hypothesis that the average `length` in the group `age==5` is the same\n",
    "as the in the group `age==7`. What assumptions are you making? What can you conclude?\n",
    "\n",
    "6. Repeat the test in 5. using the function `lm`."
   ]
  },
  {
   "cell_type": "markdown",
   "metadata": {},
   "source": [
    "# Question 4 (RABE)\n",
    "\n",
    "1. Use the `anscombe` data in `R`. Attach the table using the command `attach`.\n",
    "\n",
    "2.  Plot the 4 data sets `(x1,y1), (x2,y2), (x3,y3), (x4,y4)` on a 2-by-2 grid of plots using the commands `plot` and `par(mfrow=c(2,2))`. \n",
    "Add the number of the dataset to each plot as the main title on each plot.\n",
    "\n",
    "3. Fit a regression model to the data sets:\n",
    "\n",
    "    a. `y1 ~ x1`\n",
    "\n",
    "    b. `y2 ~ x2`\n",
    "\n",
    "    c. `y3 ~ x3`\n",
    "\n",
    "    d. `y4 ~ x4`\n",
    "\n",
    "   using the command `lm`. Verify that all the fitted models have the exact same coefficients (up to numerical tolerance).\n",
    "\n",
    "4. Using the command `cor`, compute the sample correlation for each data set.\n",
    "\n",
    "5. Fit the same models in 3. but with the `x` and `y` reversed. Using the command `summary`, does anything about the results stay\n",
    "the same when you reverse `x` and `y`?\n",
    "\n",
    "6. Compute the $SSE, SST$ and $R^2$ value for each data set. Use the\n",
    "commands `mean, sum, predict` and / or `resid`. (Use the original models, i.e. `y1 ~ x1` so only 4 $SSE$ values)\n",
    "\n",
    "7. Using the command `abline`, replot the data, adding the regression line to each plot. (Use the original models, i.e. `y1 ~ x1` so only 4 plots)"
   ]
  },
  {
   "cell_type": "code",
   "execution_count": null,
   "metadata": {
    "vscode": {
     "languageId": "r"
    }
   },
   "outputs": [],
   "source": [
    "anscombe"
   ]
  },
  {
   "cell_type": "code",
   "execution_count": null,
   "metadata": {
    "vscode": {
     "languageId": "r"
    }
   },
   "outputs": [],
   "source": []
  }
 ],
 "metadata": {
  "anaconda-cloud": {},
  "celltoolbar": "Slideshow",
  "kernelspec": {
   "display_name": "R",
   "language": "R",
   "name": "ir"
  },
  "language_info": {
   "codemirror_mode": "r",
   "file_extension": ".r",
   "mimetype": "text/x-r-source",
   "name": "R",
   "pygments_lexer": "r",
   "version": "3.5.1"
  }
 },
 "nbformat": 4,
 "nbformat_minor": 1
}
