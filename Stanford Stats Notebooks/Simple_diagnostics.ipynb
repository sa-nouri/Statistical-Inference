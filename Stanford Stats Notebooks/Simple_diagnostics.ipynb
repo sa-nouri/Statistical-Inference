{
 "cells": [
  {
   "cell_type": "markdown",
   "metadata": {
    "slideshow": {
     "slide_type": "slide"
    }
   },
   "source": [
    "## Diagnostics for simple linear regression\n",
    "\n",
    "* Goodness of fit of regression: analysis of variance.\n",
    "\n",
    "* $F$-statistics.\n",
    "\n",
    "* Residuals.\n",
    "\n",
    "* Diagnostic plots.\n",
    "   \n"
   ]
  },
  {
   "cell_type": "code",
   "execution_count": null,
   "metadata": {
    "slideshow": {
     "slide_type": "skip"
    }
   },
   "outputs": [],
   "source": [
    "options(repr.plot.width=5, repr.plot.height=4)"
   ]
  },
  {
   "cell_type": "markdown",
   "metadata": {
    "slideshow": {
     "slide_type": "slide"
    }
   },
   "source": [
    "## Geometry of least squares\n",
    "\n",
    "Here are three pictures that help to describe different models we might fit.\n",
    "\n",
    "### The full model\n",
    "\n",
    "<img src=\"http://stats191.stanford.edu/figs/axes_simple_full.svg\" width=\"800\">\n",
    "\n"
   ]
  },
  {
   "cell_type": "markdown",
   "metadata": {
    "slideshow": {
     "slide_type": "slide"
    }
   },
   "source": [
    "### The full model\n",
    "\n",
    "* This picture is meant to depict the regression model\n",
    "$$\n",
    "Y = \\beta_0 \\cdot 1 + \\beta_1 \\cdot X + \\epsilon.\n",
    "$$\n",
    "\n",
    "* The $\\beta_0$ coefficient represents movement along the horizontal axis above, labelled $\\pmb{1}$.\n",
    "\n",
    "* The $\\beta_1$ coefficient represents movement along the axis $X$ above.\n",
    "\n",
    "* The vector $\\hat{Y}$ is the vector of fitted values in the above model."
   ]
  },
  {
   "cell_type": "markdown",
   "metadata": {
    "slideshow": {
     "slide_type": "slide"
    }
   },
   "source": [
    "### The reduced model\n",
    "\n",
    "<img src=\"http://stats191.stanford.edu/figs/axes_simple_reduced.svg\" width=\"800\">"
   ]
  },
  {
   "cell_type": "markdown",
   "metadata": {
    "slideshow": {
     "slide_type": "slide"
    }
   },
   "source": [
    "### The reduced model\n",
    "\n",
    "* This picture is meant to depict the regression model\n",
    "$$\n",
    "Y = \\beta_0 \\cdot 1 + \\epsilon.\n",
    "$$\n",
    "\n",
    "* The $\\beta_0$ coefficient represents movement along the horizontal axis above, labelled $\\pmb{1}$.\n",
    "\n",
    "* Since $\\beta_1=0$, we have assumed there is no movement along the $X$ axis.\n",
    "\n",
    "* The vector $\\bar{Y} \\cdot 1$ is the vector of fitted values in the above model."
   ]
  },
  {
   "cell_type": "markdown",
   "metadata": {
    "slideshow": {
     "slide_type": "slide"
    }
   },
   "source": [
    "### Both models together\n",
    "\n",
    "<img src=\"http://stats191.stanford.edu/figs/axes_simple.svg\" width=\"600\"> \n",
    "\n",
    "* The above picture tries to capture both models in one image.\n",
    "\n",
    "* There is a new vector: $\\hat{Y} - \\bar{Y} \\cdot \\pmb{1}$. This vector is the difference in fits between the two\n",
    "previous models.\n"
   ]
  },
  {
   "cell_type": "markdown",
   "metadata": {
    "slideshow": {
     "slide_type": "slide"
    }
   },
   "source": [
    "## Goodness of fit\n",
    "\n",
    "* The closer $\\hat{Y}$ is to the ${1}$ axis, the less \"variation\" there is along the $X$ axis. \n",
    "\n",
    "* This closeness can be measured by the length of the vector $\\hat{Y}-\\bar{Y} \\cdot 1$.\n",
    "\n",
    "* The square of a vector's length is the sum of its elements squared. These quantities\n",
    "are usually referred to as *sums of squares*."
   ]
  },
  {
   "cell_type": "markdown",
   "metadata": {
    "slideshow": {
     "slide_type": "slide"
    }
   },
   "source": [
    "### Sums of squares\n",
    "\n",
    "$$\n",
    "\\begin{aligned}\n",
    "   SSE &= \\sum_{i=1}^n(Y_i - \\widehat{Y}_i)^2 = \\sum_{i=1}^n (Y_i - \\widehat{\\beta}_0 - \\widehat{\\beta}_1 X_i)^2 \\\\\n",
    "   SSR &= \\sum_{i=1}^n(\\overline{Y} - \\widehat{Y}_i)^2 = \\sum_{i=1}^n (\\overline{Y} - \\widehat{\\beta}_0 - \\widehat{\\beta}_1 X_i)^2 \\\\\n",
    "   SST &= \\sum_{i=1}^n(Y_i - \\overline{Y})^2 = SSE + SSR \\\\\n",
    "   R^2 &= \\frac{SSR}{SST} = 1 - \\frac{SSE}{SST} = \\widehat{Cor}(\\pmb{X},\\pmb{Y})^2.\n",
    "   \\end{aligned}\n",
    "$$"
   ]
  },
  {
   "cell_type": "markdown",
   "metadata": {
    "slideshow": {
     "slide_type": "slide"
    }
   },
   "source": [
    "\n",
    "\n",
    "* The quantity $SSE$, or *error sum of squares*, is the squared length of the vector $Y -  \\hat{Y}$ which protrudes perpendicular to the plane.\n",
    "\n",
    "* The quantity $SSR$, or *regression sum of squares*, is the length of the vector $\\hat{Y} - \\bar{Y} \\cdot 1$.\n",
    "\n",
    "* The quantity $SST$, or *total sum of squares*, is the length of the vector $Y - \\bar{Y} \\cdot 1$.\n",
    "\n",
    "* The quantity $R^2$ is a measure of the goodness of fit of the simple linear regression model. Values near 1 indicate\n",
    "much of the total variability in $Y$ is explained by the regression model."
   ]
  },
  {
   "cell_type": "markdown",
   "metadata": {
    "slideshow": {
     "slide_type": "slide"
    }
   },
   "source": [
    "### Mean squares\n",
    "\n",
    "* Each sum of squares gets an extra bit of information associated to them, called their *degrees of freedom*.\n",
    "\n",
    "* Roughly speaking, the *degrees of freedom* can be determined by dimension counting.\n",
    "\n",
    "\n",
    "$$\n",
    "\\begin{aligned}\n",
    "   MSE &= \\frac{1}{n-2}\\sum_{i=1}^n(Y_i - \\widehat{Y}_i)^2 \\\\\n",
    "   MSR &= \\sum_{i=1}^n(\\overline{Y} - \\widehat{Y}_i)^2 \\\\\n",
    "   MST &= \\frac{1}{n-1}\\sum_{i=1}^n(Y_i - \\overline{Y})^2 \\\\\n",
    "   \\end{aligned}\n",
    "$$"
   ]
  },
  {
   "cell_type": "markdown",
   "metadata": {
    "slideshow": {
     "slide_type": "slide"
    }
   },
   "source": [
    "### Mean squares\n",
    "\n",
    "* The $SSE$ has $n-2$ degrees of freedom  because it is the squared length of a vector that lies in $n-2$ dimensions. To see this, note that it is\n",
    "perpendicular to the 2-dimensional plane formed by the $X$ axis and the $1$ axis.\n",
    "\n",
    "* The $SST$ has $n-1$ degrees of freedom because it is the squared length of a vector that lies in $n-1$ dimensions. In this case, this vector is perpendicular to the $1$ axis.\n",
    "\n",
    "* The $SSR$ has 1 degree of freedom because it is the squared length of a vector that lies in the 2-dimensional plane but is perpendicular to the $1$ axis.\n",
    "\n"
   ]
  },
  {
   "cell_type": "markdown",
   "metadata": {
    "slideshow": {
     "slide_type": "slide"
    }
   },
   "source": [
    "### A different visualization\n",
    "\n",
    "These sums of squares can be visualized by other means as well. \n",
    "We will illustrate with a synthetic dataset."
   ]
  },
  {
   "cell_type": "code",
   "execution_count": null,
   "metadata": {
    "slideshow": {
     "slide_type": "fragment"
    }
   },
   "outputs": [],
   "source": [
    "X = seq(0, 20, length = 21)\n",
    "Y = 0.5 * X + 1 + rnorm(21)\n",
    "Y.lm = lm(Y ~ X)\n",
    "meanY = mean(Y)\n",
    "Yhat = predict(Y.lm)\n",
    "plot(X,Y, pch=23, bg='red', cex=2)"
   ]
  },
  {
   "cell_type": "markdown",
   "metadata": {
    "slideshow": {
     "slide_type": "slide"
    }
   },
   "source": [
    "The total sum of squares, \n",
    "$SST$, is the sum of the squared\n",
    "differences between the *Y* values and the sample mean of the *Y*\n",
    "values."
   ]
  },
  {
   "cell_type": "code",
   "execution_count": null,
   "metadata": {
    "slideshow": {
     "slide_type": "fragment"
    }
   },
   "outputs": [],
   "source": [
    "plot(X, Y, pch = 23, bg = \"red\", main='Total sum of squares', cex=2)\n",
    "abline(Y.lm, pch=23, col='green', lwd=2)\n",
    "abline(h = meanY, col = \"yellow\", lwd = 2)\n",
    "for (i in 1:21) {\n",
    "      points(X[i], meanY, pch = 23, bg = \"yellow\")\n",
    "      lines(c(X[i], X[i]), c(Y[i], meanY))\n",
    "}\n"
   ]
  },
  {
   "cell_type": "markdown",
   "metadata": {
    "slideshow": {
     "slide_type": "slide"
    }
   },
   "source": [
    "The error sum of squares, $SSE$, is the sum of the squared\n",
    "differences between the $Y$ values and the $\\hat{Y}$ values, i.e. the\n",
    "fitted values of the regression model.\n"
   ]
  },
  {
   "cell_type": "code",
   "execution_count": null,
   "metadata": {
    "slideshow": {
     "slide_type": "fragment"
    }
   },
   "outputs": [],
   "source": [
    "plot(X, Y, pch = 23, bg = \"red\", main=\"Error sum of squares\", cex=2)\n",
    "abline(Y.lm, col = \"green\", lwd = 2)\n",
    "for (i in 1:21) {\n",
    "    points(X[i], Yhat[i], pch = 23, bg = \"green\")\n",
    "    lines(c(X[i], X[i]), c(Y[i], Yhat[i]))\n",
    "}\n",
    "abline(h = meanY, col = \"yellow\", lwd = 2)"
   ]
  },
  {
   "cell_type": "markdown",
   "metadata": {
    "slideshow": {
     "slide_type": "slide"
    }
   },
   "source": [
    "Finally, the regression sum of squares, $SSR$ is the sum of the squared\n",
    "differences between the $\\hat{Y}$ values and the sample mean of\n",
    "the $Y$ values."
   ]
  },
  {
   "cell_type": "code",
   "execution_count": null,
   "metadata": {
    "slideshow": {
     "slide_type": "fragment"
    }
   },
   "outputs": [],
   "source": [
    "plot(X, Y, pch = 23, bg = \"red\", main=\"Regression sum of squares\", cex=2)\n",
    "abline(Y.lm, col = \"green\", lwd = 2)\n",
    "abline(h = meanY, col = \"yellow\", lwd = 2)\n",
    "for (i in 1:21) {\n",
    "     points(X[i], Yhat[i], pch = 23, bg = \"green\")\n",
    "     points(X[i], meanY, pch = 23, bg = \"yellow\")\n",
    "     lines(c(X[i], X[i]), c(meanY, Yhat[i]))\n",
    "}\n"
   ]
  },
  {
   "cell_type": "markdown",
   "metadata": {
    "slideshow": {
     "slide_type": "slide"
    }
   },
   "source": [
    "## Definition of $R^2$"
   ]
  },
  {
   "cell_type": "markdown",
   "metadata": {
    "slideshow": {
     "slide_type": "fragment"
    }
   },
   "source": [
    "As noted above, if the regression model fits very well, then $SSR$ will be\n",
    "large relative to $SST$. The $R^2$ score is just the\n",
    "ratio of these sums of squares.\n",
    "\n",
    "We'll verify this on the `wages` data."
   ]
  },
  {
   "cell_type": "code",
   "execution_count": null,
   "metadata": {
    "slideshow": {
     "slide_type": "fragment"
    }
   },
   "outputs": [],
   "source": [
    "url = \"http://stats191.stanford.edu/data/wage.csv\"\n",
    "wages = read.table(url, sep = \",\", header = T)\n",
    "wages.lm = lm(logwage ~ education, data=wages)"
   ]
  },
  {
   "cell_type": "markdown",
   "metadata": {
    "slideshow": {
     "slide_type": "slide"
    }
   },
   "source": [
    "Let's verify our claim $SST=SSE+SSR$:"
   ]
  },
  {
   "cell_type": "code",
   "execution_count": null,
   "metadata": {
    "slideshow": {
     "slide_type": "fragment"
    }
   },
   "outputs": [],
   "source": [
    "SSE = sum(resid(wages.lm)^2)\n",
    "SST = sum((wages$logwage - mean(wages$logwage))^2)\n",
    "SSR = sum((mean(wages$logwage) - predict(wages.lm))^2)\n",
    "data.frame(SST, SSE + SSR)\n"
   ]
  },
  {
   "cell_type": "markdown",
   "metadata": {
    "slideshow": {
     "slide_type": "slide"
    }
   },
   "source": [
    "The $R^2$ is also closely related to the $F$ statistic\n",
    "reported as the goodness of fit in *summary* of *lm*."
   ]
  },
  {
   "cell_type": "code",
   "execution_count": null,
   "metadata": {
    "slideshow": {
     "slide_type": "fragment"
    }
   },
   "outputs": [],
   "source": [
    "F = (SSR / 1) / (SSE / wages.lm$df)\n",
    "print(F)\n",
    "summary(wages.lm)"
   ]
  },
  {
   "cell_type": "markdown",
   "metadata": {
    "slideshow": {
     "slide_type": "slide"
    }
   },
   "source": [
    "In other words, for simple linear regression that `F-statistic` is\n",
    "$$\n",
    "F = \\frac{(n-2) \\cdot R^2}{1-R^2}\n",
    "$$\n",
    "where $n-2$ is `wages.lm$df`."
   ]
  },
  {
   "cell_type": "code",
   "execution_count": null,
   "metadata": {
    "slideshow": {
     "slide_type": "fragment"
    }
   },
   "outputs": [],
   "source": [
    "2176*0.1351 / (1 - 0.1351)\n"
   ]
  },
  {
   "cell_type": "markdown",
   "metadata": {
    "slideshow": {
     "slide_type": "fragment"
    }
   },
   "source": [
    "Finally,  $R=\\sqrt{R^2}$ is called the (absolute) *correlation coefficient* because it is equal\n",
    "to the absolute value of sample correlation coefficient of $X$ and $Y$."
   ]
  },
  {
   "cell_type": "code",
   "execution_count": null,
   "metadata": {},
   "outputs": [],
   "source": [
    "cor(wages$education, wages$logwage)^2"
   ]
  },
  {
   "cell_type": "markdown",
   "metadata": {
    "slideshow": {
     "slide_type": "slide"
    }
   },
   "source": [
    "## $F$-statistics"
   ]
  },
  {
   "cell_type": "markdown",
   "metadata": {
    "slideshow": {
     "slide_type": "fragment"
    }
   },
   "source": [
    "After a $t$-statistic, the next most commonly encountered statistic is a $\\chi^2$ statistic, or its closely related cousin,\n",
    "the $F$ statistic.\n",
    "\n",
    "* Roughly speaking, an $F$-statistic is a ratio of *sample variances*: it has a numerator, $N$, \n",
    " and a denominator, $D$ that are independent.\n",
    " \n",
    " *  Let $$N \\sim \\frac{\\chi^2_{\\rm num} }{ df_{{\\rm num}}}, \\qquad D \\sim \\frac{\\chi^2_{\\rm den} }{ df_{{\\rm den}}}$$\n",
    " and define\n",
    " $$\n",
    " F = \\frac{N}{D}.\n",
    " $$\n",
    " \n",
    " * We say $F$ has an $F$ distribution with parameters $df_{{\\rm num}}, df_{{\\rm den}}$ and write $F \\sim F_{df_{{\\rm num}}, df_{{\\rm den}}}$"
   ]
  },
  {
   "cell_type": "markdown",
   "metadata": {
    "slideshow": {
     "slide_type": "slide"
    }
   },
   "source": [
    "### $F$ statistic for simple linear regression"
   ]
  },
  {
   "cell_type": "markdown",
   "metadata": {
    "slideshow": {
     "slide_type": "fragment"
    }
   },
   "source": [
    "\n",
    "* The ratio $$\n",
    "   F=\\frac{SSR/1}{SSE/(n-2)} = \\frac{(SST-SSE)/1}{SSE/(n-2)} = \\frac{MSR}{MSE}$$\n",
    "   can be thought of as a *ratio of a difference in sums of squares normalized by our \"best estimate\" of variance* .\n",
    "\n",
    "* In fact, under $H_0:\\beta_1=0$, $$\n",
    "   F \\sim F_{1, n-2}\n",
    "   $$\n",
    "because $$\n",
    "   \\begin{aligned}\n",
    "   SSR &= \\|\\hat{Y} - \\bar{Y} \\cdot 1\\|^2 \\\\\n",
    "   SSE &= \\|Y - \\hat{Y}\\|^2\n",
    "   \\end{aligned}\n",
    "   $$\n",
    "   and from our picture, these vectors are orthogonal.\n",
    "   \n",
    "* The null hypothesis $H_0:\\beta_1=0$ implies that $SSR \\sim \\chi^2_1 \\cdot \\sigma^2$."
   ]
  },
  {
   "cell_type": "markdown",
   "metadata": {
    "slideshow": {
     "slide_type": "slide"
    }
   },
   "source": [
    "### Relation between $F$ and $t$ statistics."
   ]
  },
  {
   "cell_type": "markdown",
   "metadata": {
    "slideshow": {
     "slide_type": "fragment"
    }
   },
   "source": [
    "* If $T \\sim t_{\\nu}$, then\n",
    "   $$\n",
    "   T^2 \\sim \\frac{N(0,1)^2}{\\chi^2_{\\nu}/\\nu} \\sim \\frac{\\chi^2_1/1}{\\chi^2_{\\nu}/\\nu}.$$\n",
    "\n",
    "* In other words, the square of a $t$-statistic is an $F$-statistic.\n",
    "   Because it is always positive, an $F$-statistic has no *direction* associated with it.\n",
    " \n",
    "* In fact \n",
    "   $$\n",
    "   F = \\frac{MSR}{MSE} = \\frac{\\widehat{\\beta}_1^2}{SE(\\widehat{\\beta}_1)^2}.$$\n",
    "Let's check this in our example."
   ]
  },
  {
   "cell_type": "code",
   "execution_count": null,
   "metadata": {
    "slideshow": {
     "slide_type": "slide"
    }
   },
   "outputs": [],
   "source": [
    "summary(wages.lm)"
   ]
  },
  {
   "cell_type": "markdown",
   "metadata": {
    "slideshow": {
     "slide_type": "fragment"
    }
   },
   "source": [
    "The $t$ statistic for *education* is the $t$-statistic for the parameter $\\beta_1$ under $H_0:\\beta_1=0$. Its value\n",
    "is 18.4 above. If we square it, we should get about the same as the *F-statistic*."
   ]
  },
  {
   "cell_type": "code",
   "execution_count": null,
   "metadata": {
    "slideshow": {
     "slide_type": "fragment"
    }
   },
   "outputs": [],
   "source": [
    "18.44**2"
   ]
  },
  {
   "cell_type": "markdown",
   "metadata": {
    "slideshow": {
     "slide_type": "slide"
    }
   },
   "source": [
    "### Interpretation of an $F$-statistic"
   ]
  },
  {
   "cell_type": "markdown",
   "metadata": {
    "slideshow": {
     "slide_type": "fragment"
    }
   },
   "source": [
    "* In regression, the numerator is usually a difference in *goodness of fit* of two  (nested) models.\n",
    "\n",
    "* The denominator is $\\hat{\\sigma}^2$ -- an estimate of $\\sigma^2$.\n",
    "\n",
    "* In our example today: the bigger model is the simple linear regression model, the smaller is the model\n",
    " with constant mean (one sample model).\n",
    "\n",
    "* If the $F$ is large, it says that the *bigger*  model explains a lot more variability in $Y$  (relative to $\\sigma^2$) than the smaller one.\n"
   ]
  },
  {
   "cell_type": "markdown",
   "metadata": {
    "slideshow": {
     "slide_type": "slide"
    }
   },
   "source": [
    "### Analysis of variance\n",
    "\n",
    "- The equation\n",
    "$$\n",
    "SST = SSE + SSR\n",
    "$$\n",
    "is a *decomposition* of the total variability into separate pieces.\n",
    "\n",
    "- This decomposition is often referred to as an **analysis of variance (ANOVA)**."
   ]
  },
  {
   "cell_type": "markdown",
   "metadata": {
    "slideshow": {
     "slide_type": "slide"
    }
   },
   "source": [
    "### Interpretation of an $F$-statistic\n",
    "\n",
    "<img src=\"http://stats191.stanford.edu/figs/axes_simple.svg\" width=\"600\"> \n",
    "\n",
    "* If the null hypothesis is true, $\\hat{Y}$ will be close to $\\bar{Y} \\cdot 1$. \n",
    "\n",
    "* How close? We must compare to the size of the noise, i.e. $\\sigma^2$.\n",
    "\n",
    "* Not knowing $\\sigma^2$, we substitute our estimate $\\hat{\\sigma}^2$.\n"
   ]
  },
  {
   "cell_type": "markdown",
   "metadata": {
    "slideshow": {
     "slide_type": "slide"
    }
   },
   "source": [
    "### The $F$-statistic for simple linear regression revisited\n",
    "\n",
    "The $F$ statistic should compare two models. What are these models?\n",
    "\n",
    "* The *full model* would be\n",
    "$$\n",
    "(FM) \\qquad  Y_i = \\beta_0 + \\beta_1 X_i + \\varepsilon_i \n",
    "$$\n",
    "\n",
    "* The *reduced model* would be\n",
    "$$\n",
    "(RM) \\qquad  Y_i = \\beta_0 + \\varepsilon_i \n",
    "$$\n",
    "\n",
    "* The $F$-statistic then has the form\n",
    "$$\n",
    "F=\\frac{(SSE(RM) - SSE(FM)) / (df_{RM} - df_{FM})}{SSE(FM) / df_{FM}}\n",
    "$$\n"
   ]
  },
  {
   "cell_type": "markdown",
   "metadata": {
    "slideshow": {
     "slide_type": "slide"
    }
   },
   "source": [
    "### The $F$-statistic for simple linear regression revisited\n",
    "\n",
    "* The *null hypothesis* is \n",
    "$$\n",
    "H_0: \\text{reduced model (RM) is correct}.\n",
    "$$\n",
    "\n",
    "* The usual $\\alpha$ rejection rule would be to reject $H_0$ if the $F_{\\text{obs}}$ the  observed $F$ statistic is greater than\n",
    "$F_{1,n-2,1-\\alpha}$. \n",
    "\n",
    "* In our case, the observed $F$ was 340, $n-2=2176$ and the appropriate 5% threshold is computed below to be 3.85. Therefore, we strongly\n",
    "reject $H_0$."
   ]
  },
  {
   "cell_type": "code",
   "execution_count": null,
   "metadata": {
    "slideshow": {
     "slide_type": "fragment"
    }
   },
   "outputs": [],
   "source": [
    "qf(0.95, 1, 2176)"
   ]
  },
  {
   "cell_type": "markdown",
   "metadata": {
    "slideshow": {
     "slide_type": "slide"
    }
   },
   "source": [
    "## Diagnostics for simple linear regression"
   ]
  },
  {
   "cell_type": "markdown",
   "metadata": {
    "slideshow": {
     "slide_type": "fragment"
    }
   },
   "source": [
    "While we have used a particular model for our data, it may not be correct. It is important that we have\n",
    "some tools that help us determine whether or model is reasonable or not.\n"
   ]
  },
  {
   "cell_type": "markdown",
   "metadata": {
    "slideshow": {
     "slide_type": "slide"
    }
   },
   "source": [
    "### What can go wrong?"
   ]
  },
  {
   "cell_type": "markdown",
   "metadata": {
    "slideshow": {
     "slide_type": "fragment"
    }
   },
   "source": [
    "* Using a linear regression function can be wrong: maybe regression function should be quadratic.\n",
    "\n",
    "* We assumed independent Gaussian errors with the same variance. This may be incorrect.\n",
    "    - The errors may not be normally distributed.\n",
    "    - The errors may not be independent.\n",
    "    - The errors may not have the same variance.\n",
    "    \n",
    "* Detecting problems is more *art* then *science*, i.e.\n",
    "   we cannot *test* for all possible problems in a regression model.\n",
    "   \n",
    "The basic idea of most diagnostic measures is the following. *If the model is correct then\n",
    "   residuals $e_i = Y_i -\\widehat{Y}_i, 1 \\leq i \\leq n$ should look like a sample of\n",
    "   (not quite independent) $N(0, \\sigma^2)$ random variables.*"
   ]
  },
  {
   "cell_type": "markdown",
   "metadata": {
    "slideshow": {
     "slide_type": "slide"
    }
   },
   "source": [
    "### A poorly fitting model"
   ]
  },
  {
   "cell_type": "markdown",
   "metadata": {
    "slideshow": {
     "slide_type": "fragment"
    }
   },
   "source": [
    "Here is an example of a poorly fitting model. It will turn out that there is a simple fix for this dataset: a model that\n",
    "includes a quadratic term for $X$ will turn out to have a much better fit. Finding this\n",
    "fix in practice can be difficult.\n"
   ]
  },
  {
   "cell_type": "code",
   "execution_count": null,
   "metadata": {
    "slideshow": {
     "slide_type": "fragment"
    }
   },
   "outputs": [],
   "source": [
    "y = anscombe$y2 + rnorm(length(anscombe$y2)) * 0.45\n",
    "x = anscombe$x2\n",
    "plot(x, y, pch = 23, bg = \"orange\", cex = 2, ylab = \"Y\",\n",
    "     xlab = \"X\")\n",
    "simple.lm = lm(y ~ x)\n",
    "abline(simple.lm, lwd = 2, col = \"red\", lty = 2)"
   ]
  },
  {
   "cell_type": "markdown",
   "metadata": {
    "slideshow": {
     "slide_type": "slide"
    }
   },
   "source": [
    "Let's take a look at the residuals from this model. Patterns in these residual plots may suggest something like a quadratic effect is missing, but they can also suggest some sort of serial dependence in the random errors. We will discuss this later, when we discuss correlated-errors."
   ]
  },
  {
   "cell_type": "code",
   "execution_count": null,
   "metadata": {
    "slideshow": {
     "slide_type": "fragment"
    }
   },
   "outputs": [],
   "source": [
    "plot(x, resid(simple.lm), ylab = \"Residual\", xlab = \"X\", pch = 23,\n",
    "        bg = \"orange\", cex = 2)\n",
    "abline(h = 0, lwd = 2, col = \"red\", lty = 2)"
   ]
  },
  {
   "cell_type": "markdown",
   "metadata": {
    "slideshow": {
     "slide_type": "slide"
    }
   },
   "source": [
    "We will add a quadratic term to our model. This is our first example of a *multiple linear regression model*."
   ]
  },
  {
   "cell_type": "code",
   "execution_count": null,
   "metadata": {
    "slideshow": {
     "slide_type": "fragment"
    }
   },
   "outputs": [],
   "source": [
    "quadratic.lm = lm(y ~ poly(x, 2))\n",
    "Xsort = sort(x)\n",
    "plot(x, y, pch = 23, bg = \"orange\", cex = 2, ylab = \"Y\",\n",
    "     xlab = \"X\")\n",
    "lines(Xsort, predict(quadratic.lm, list(x = Xsort)), col = \"red\", lty = 2,\n",
    "      lwd = 2)"
   ]
  },
  {
   "cell_type": "markdown",
   "metadata": {
    "slideshow": {
     "slide_type": "slide"
    }
   },
   "source": [
    "The residuals of the quadratic model have no apparent pattern in them, suggesting this is a better fit than the simple linear regression model."
   ]
  },
  {
   "cell_type": "code",
   "execution_count": null,
   "metadata": {
    "slideshow": {
     "slide_type": "fragment"
    }
   },
   "outputs": [],
   "source": [
    "plot(x, resid(quadratic.lm), ylab = \"Residual\", xlab = \"X\", pch = 23,\n",
    "        bg = \"orange\", cex = 2)\n",
    "abline(h = 0, lwd = 2, col = \"red\", lty = 2)"
   ]
  },
  {
   "cell_type": "markdown",
   "metadata": {
    "slideshow": {
     "slide_type": "slide"
    }
   },
   "source": [
    "### Assessing normality of errors\n",
    "\n",
    "Another common diagnostic plot is the *qqplot* where *qq* stands for *Quantile-Quantile*. Roughly speaking, a qqplot is designed to see if the quantiles of two distributions match. \n",
    "\n",
    "* The function *qqnorm* can be used to ascertain if a sample of numbers are roughly normally distributed. If the points lie on the diagonal line, this is evidence that the sample is normally distributed. Various departures from the diagonal indicate skewness, asymmetry, etc.\n",
    "\n",
    "* If $e_i, 1\\leq i \\leq n$ were really a sample of\n",
    "$N(0, \\sigma^2)$ then their sample quantiles should be close to the\n",
    "sample quantiles of the $N(0, \\sigma^2)$ distribution."
   ]
  },
  {
   "cell_type": "markdown",
   "metadata": {
    "slideshow": {
     "slide_type": "slide"
    }
   },
   "source": [
    "The $qqnorm$ plot is a plot of\n",
    "   $$\n",
    "   e_{(i)}  \\ {\\rm vs.} \\  \\mathbb{E}(\\varepsilon_{(i)}), \\qquad 1 \\leq i \\leq n.$$\n",
    "   where $e_{(i)}$ is the $i$-th smallest residual (order statistic) and\n",
    "   $\\mathbb{E}(\\varepsilon_{(i)})$ is the expected value for independent $\\varepsilon_i$'s $\\sim N(0,\\sigma^2)$."
   ]
  },
  {
   "cell_type": "code",
   "execution_count": null,
   "metadata": {
    "slideshow": {
     "slide_type": "fragment"
    }
   },
   "outputs": [],
   "source": [
    "qqnorm(resid(simple.lm), pch = 23, bg = \"orange\", cex = 2)"
   ]
  },
  {
   "cell_type": "code",
   "execution_count": null,
   "metadata": {
    "slideshow": {
     "slide_type": "slide"
    }
   },
   "outputs": [],
   "source": [
    "qqnorm(resid(quadratic.lm), pch = 23, bg = \"orange\", cex = 2)"
   ]
  },
  {
   "cell_type": "markdown",
   "metadata": {
    "slideshow": {
     "slide_type": "fragment"
    }
   },
   "source": [
    "In these two examples, the qqplot does not seem vastly different, even though we know the simple model is incorrect in this case. This indicates that several diagnostic tools can be useful in assessing a model."
   ]
  },
  {
   "cell_type": "markdown",
   "metadata": {
    "slideshow": {
     "slide_type": "slide"
    }
   },
   "source": [
    "### Assessing constant variance assumption"
   ]
  },
  {
   "cell_type": "markdown",
   "metadata": {
    "slideshow": {
     "slide_type": "fragment"
    }
   },
   "source": [
    "One plot that is sometimes used to determine whether the variance is constant or not is a plot of \n",
    "$X$ against $e=Y-\\hat{Y}$. If there is a pattern to the spread in this plot, it may indicate that the variance\n",
    "changes as a function of $X$. In our earlier plots, we noticed a trend in this plot, not necessarily\n",
    "evidence of changing variance.\n",
    "\n",
    "The dataset below, taken from some work done with Dr. Robert Shafer here at Stanford http://hivdb.stanford.edu, plots HIV virus load against a score related to the the genetic makeup of a patient’s virus shows clear non-constant variance. It also provides a clear example of an outlier, or a point that is a clear departure from the model."
   ]
  },
  {
   "cell_type": "code",
   "execution_count": null,
   "metadata": {
    "slideshow": {
     "slide_type": "slide"
    }
   },
   "outputs": [],
   "source": [
    "url = 'http://stats191.stanford.edu/data/HIV.VL.table'\n",
    "\n",
    "viral.load = read.table(url, header=T)\n",
    "attach(viral.load)\n",
    "\n",
    "plot(GSS, VL, pch=23, bg='orange', cex=2)\n",
    "viral.lm = lm(VL ~ GSS)\n",
    "abline(viral.lm, col='red', lwd=2)"
   ]
  },
  {
   "cell_type": "code",
   "execution_count": null,
   "metadata": {
    "slideshow": {
     "slide_type": "slide"
    }
   },
   "outputs": [],
   "source": [
    "good = (VL < 200000)\n",
    "plot(GSS, VL, pch=23, bg='orange', cex=2)\n",
    "viral.lm.good = lm(VL ~ GSS, subset=good)\n",
    "abline(viral.lm.good, col='green', lwd=2)"
   ]
  },
  {
   "cell_type": "markdown",
   "metadata": {
    "slideshow": {
     "slide_type": "slide"
    }
   },
   "source": [
    "When we plot the residuals against the fitted values for this model (even with the outlier removed) we see that the variance\n",
    "clearly depends on $GSS$. They also do not seem symmetric around 0 so perhaps the Gaussian model is not appropriate."
   ]
  },
  {
   "cell_type": "code",
   "execution_count": null,
   "metadata": {
    "slideshow": {
     "slide_type": "fragment"
    }
   },
   "outputs": [],
   "source": [
    "plot(GSS[good], resid(viral.lm.good), pch=23,\n",
    "     bg='orange', cex=2, xlab='GSS', ylab='Residual')\n",
    "abline(h=0, lwd=2, col='red', lty=2)"
   ]
  },
  {
   "cell_type": "markdown",
   "metadata": {
    "slideshow": {
     "slide_type": "slide"
    }
   },
   "source": [
    "### Outliers\n",
    "\n",
    "Outliers can be obvious to spot (or not) but very difficult to define rigorously.\n",
    "Roughly speaking, they points where the model really does not fit.\n",
    "\n",
    "They might correspond to mistakes in data transcription, lab \n",
    "errors, who knows? If possible, they should be identified and (hopefully) explained.\n",
    "\n",
    "Later, we'll talk about some formal ways to detect outliers."
   ]
  }
 ],
 "metadata": {
  "anaconda-cloud": {},
  "celltoolbar": "Slideshow",
  "kernelspec": {
   "display_name": "R",
   "language": "R",
   "name": "ir"
  },
  "language_info": {
   "codemirror_mode": "r",
   "file_extension": ".r",
   "mimetype": "text/x-r-source",
   "name": "R",
   "pygments_lexer": "r",
   "version": "3.5.1"
  }
 },
 "nbformat": 4,
 "nbformat_minor": 1
}
