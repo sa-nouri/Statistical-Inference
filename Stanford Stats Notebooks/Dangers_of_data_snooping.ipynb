{
 "cells": [
  {
   "cell_type": "markdown",
   "metadata": {},
   "source": [
    "## Data snooping\n",
    "\n",
    "We've talked about the need for having our hypotheses determined \n",
    "*before* looking at the summary table. Here is a simple example to illustrate\n",
    "the danger of looking at summaries of the data before deciding which hypothesis to test.\n",
    "\n",
    "Below, I will create complete noise datasets but try to\n",
    "find \"the best model\". There is nothing\n",
    "wrong with finding the best model, what is wrong is trusting the\n",
    "results of the summary table **after having chosen this as the best model**."
   ]
  },
  {
   "cell_type": "code",
   "execution_count": null,
   "metadata": {},
   "outputs": [],
   "source": [
    "X = matrix(rnorm(50000), 50, 1000)\n",
    "X = scale(X)\n",
    "Y = rnorm(50)\n",
    "Z = (t(X) %*% (Y - mean(Y))) / sd(Y)\n",
    "print(summary(lm(Y ~ X[,1])))\n",
    "qqnorm(Z)"
   ]
  },
  {
   "cell_type": "markdown",
   "metadata": {},
   "source": [
    "The collection of 1000 $T$ statistics looks pretty close to a normal (with 50 degrees of freedom). This is not surprising.\n",
    "\n",
    "Now, let's look at the largest $T$"
   ]
  },
  {
   "cell_type": "code",
   "execution_count": null,
   "metadata": {},
   "outputs": [],
   "source": [
    "largest_T = order(abs(Z))[1000]\n",
    "print(summary(lm(Y ~ X[,largest_T])))"
   ]
  },
  {
   "cell_type": "markdown",
   "metadata": {},
   "source": [
    "The $T$ statistic is much larger in absolute value than it should be.\n",
    "Let's repeat this experiment many times."
   ]
  },
  {
   "cell_type": "code",
   "execution_count": null,
   "metadata": {},
   "outputs": [],
   "source": [
    "largest_T_sim = function(printit=FALSE) {\n",
    "    X = matrix(rnorm(500), 50, 10)\n",
    "    X = scale(X)\n",
    "    Y = rnorm(50)\n",
    "    Z = (t(X) %*% (Y - mean(Y))) / sd(Y)\n",
    "    largest_T = order(abs(Z))[10]\n",
    "    if (printit) {\n",
    "        print(summary(lm(Y ~ X[,largest_T])))\n",
    "    }\n",
    "    return(summary(lm(Y ~ X[,largest_T]))$coef[2,4])\n",
    "}\n",
    "largest_T_sim(printit=TRUE)"
   ]
  },
  {
   "cell_type": "markdown",
   "metadata": {},
   "source": [
    "We can do this many times and store the $p$-values. What will their distribution look like?"
   ]
  },
  {
   "cell_type": "code",
   "execution_count": null,
   "metadata": {},
   "outputs": [],
   "source": [
    "Pval = c()\n",
    "for (i in 1:200) {\n",
    "    Pval = c(Pval, largest_T_sim())\n",
    "}\n",
    "plot(ecdf(Pval))"
   ]
  },
  {
   "cell_type": "markdown",
   "metadata": {},
   "source": [
    "### Type I error\n",
    "\n",
    "How likely are we to conclude there is an effect if we use these $p$-values?"
   ]
  },
  {
   "cell_type": "code",
   "execution_count": null,
   "metadata": {},
   "outputs": [],
   "source": [
    "ecdf(Pval)(0.05)"
   ]
  },
  {
   "cell_type": "code",
   "execution_count": null,
   "metadata": {},
   "outputs": [],
   "source": []
  }
 ],
 "metadata": {
  "anaconda-cloud": {},
  "kernelspec": {
   "display_name": "R",
   "language": "R",
   "name": "ir"
  },
  "language_info": {
   "codemirror_mode": "r",
   "file_extension": ".r",
   "mimetype": "text/x-r-source",
   "name": "R",
   "pygments_lexer": "r",
   "version": "3.3.1"
  }
 },
 "nbformat": 4,
 "nbformat_minor": 0
}
