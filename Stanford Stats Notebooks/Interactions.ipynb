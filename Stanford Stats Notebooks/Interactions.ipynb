{
 "cells": [
  {
   "cell_type": "markdown",
   "metadata": {
    "slideshow": {
     "slide_type": "slide"
    }
   },
   "source": [
    "## Interactions and qualitative variables \n",
    "\n",
    "### Chapter 5, RABE\n",
    "\n",
    "- Most variables we have looked at so far were continuous: `height`,\n",
    "`rating`, etc.\n",
    "\n",
    "- In many situations, we record a categorical variable: `sex` or `gender`, `state`, `country`, etc.\n",
    "\n",
    "- We call these variables *categorical* or *qualtitative* variables.\n",
    "In `R`, these are referred to as `factors`.\n",
    "\n",
    "- For our purposes, we want to answer: **How do we include this in our model?**\n",
    "\n",
    "This will eventually lead us to the notion of *interactions* and some special regression models called\n",
    "*ANOVA* (analysis of variance) models.\n"
   ]
  },
  {
   "cell_type": "code",
   "execution_count": null,
   "metadata": {
    "slideshow": {
     "slide_type": "skip"
    }
   },
   "outputs": [],
   "source": [
    "options(repr.plot.width=4, repr.plot.height=4)"
   ]
  },
  {
   "cell_type": "markdown",
   "metadata": {
    "slideshow": {
     "slide_type": "slide"
    }
   },
   "source": [
    "### Two-sample problem\n",
    "\n",
    "In some sense, we have already seen a regression model with categorical variables:\n",
    "the two-sample model.\n",
    "\n",
    "* Two sample problem with equal variances: suppose\n",
    "$Z_j \\sim N(\\mu_1, \\sigma^2), 1 \\leq j \\leq m$ and\n",
    "$W_j \\sim N(\\mu_2, \\sigma^2), 1 \\leq j \\leq n $.\n",
    "\n",
    "* For $1 \\leq i \\leq n$, let \n",
    "$$X_i =\n",
    "\\begin{cases}\n",
    "1 & 1 \\leq i \\leq m \\\\\n",
    "0 & \\text{otherwise.}\n",
    "\\end{cases}$$\n"
   ]
  },
  {
   "cell_type": "markdown",
   "metadata": {
    "slideshow": {
     "slide_type": "slide"
    }
   },
   "source": [
    "The design matrix and response look like\n",
    "$$ Y_{(n+m) \\times 1} = \n",
    "\\begin{pmatrix}\n",
    "Z_1 \\\\\n",
    "\\vdots \\\\\n",
    "Z_m \\\\\n",
    "W_1 \\\\\n",
    "\\vdots \\\\\n",
    "W_n \\\\\n",
    "\\end{pmatrix}, \\qquad\n",
    "X_{(n+m) \\times 2} =\n",
    " \\begin{pmatrix}\n",
    "1 & 1 \\\\\n",
    " \\vdots & \\vdots \\\\\n",
    "1 & 1 \\\\\n",
    "1 & 0 \\\\\n",
    "\\vdots & \\vdots \\\\\n",
    "1 & 0\n",
    "\\end{pmatrix}$$"
   ]
  },
  {
   "cell_type": "markdown",
   "metadata": {
    "slideshow": {
     "slide_type": "slide"
    }
   },
   "source": [
    "### Salary example\n",
    "\n",
    "In this example, we have data on salaries of employees in IT (several years ago?) based on their years of experience, their\n",
    "education level and whether or not they are management.\n",
    "\n",
    "-   Outcome: `S`, salaries for IT staff in a corporation.\n",
    "\n",
    "-   Predictors: \n",
    "    * `X`, experience (years)\n",
    "    * `E`, education (1=Bachelor’s, 2=Master’s, 3=Ph.D)\n",
    "    * `M`, management (1=management, 0=not management)"
   ]
  },
  {
   "cell_type": "code",
   "execution_count": null,
   "metadata": {
    "slideshow": {
     "slide_type": "fragment"
    }
   },
   "outputs": [],
   "source": [
    "url = 'http://stats191.stanford.edu/data/salary.table'\n",
    "salary.table <- read.table(url, header=T)\n",
    "salary.table$E <- factor(salary.table$E)\n",
    "salary.table$M <- factor(salary.table$M)"
   ]
  },
  {
   "cell_type": "markdown",
   "metadata": {
    "slideshow": {
     "slide_type": "slide"
    }
   },
   "source": [
    "Let's take a quick look at how `R` treats a `factor`"
   ]
  },
  {
   "cell_type": "code",
   "execution_count": null,
   "metadata": {
    "slideshow": {
     "slide_type": "fragment"
    }
   },
   "outputs": [],
   "source": [
    "str(salary.table$E)"
   ]
  },
  {
   "cell_type": "markdown",
   "metadata": {
    "slideshow": {
     "slide_type": "slide"
    }
   },
   "source": [
    "Let's take a look at the data. We will use triangles for management, diamonds for non-management\n",
    "red for education=1, green for education=2 and blue for education=3.\n"
   ]
  },
  {
   "cell_type": "code",
   "execution_count": null,
   "metadata": {
    "slideshow": {
     "slide_type": "slide"
    }
   },
   "outputs": [],
   "source": [
    "plot(salary.table$X, salary.table$S, type='n', xlab='Experience', ylab='Salary')\n",
    "colors <- c('red', 'green', 'blue')\n",
    "symbols <- c(23,24)\n",
    "for (i in 1:3) {\n",
    "    for (j in 0:1) {\n",
    "        subset <- as.logical((salary.table$E == i) * (salary.table$M == j))\n",
    "        points(salary.table$X[subset], salary.table$S[subset], pch=symbols[j+1], bg=colors[i], cex=2)\n",
    "    }\n",
    "}"
   ]
  },
  {
   "cell_type": "markdown",
   "metadata": {
    "slideshow": {
     "slide_type": "slide"
    }
   },
   "source": [
    "## Effect of experience\n",
    "\n",
    "In these pictures, the slope of each line seems to be about the same. How might\n",
    "we estimate it?\n",
    "\n",
    "### One solution is *stratification*.\n",
    "\n",
    "* Make six separate models (one for each combination of `E` and `M`) and estimate the slope.\n",
    "\n",
    "* Combining them: we could average them?\n",
    "\n",
    "* We have few degrees of freedom in each group.\n"
   ]
  },
  {
   "cell_type": "markdown",
   "metadata": {
    "slideshow": {
     "slide_type": "slide"
    }
   },
   "source": [
    "### Or, use *qualitative* variables\n",
    "\n",
    "-   IF it is reasonable to assume that $\\sigma^2$ is constant for each\n",
    "    observation.\n",
    "\n",
    "-   THEN, we can incorporate all observations into 1 model.\n",
    "\n",
    "$$S_i = \\beta_0 + \\beta_1 X_i + \\beta_2 E_{i2} + \\beta_3 E_{i3} + \\beta_4 M_i + \\varepsilon_i$$\n",
    "\n",
    "Above, the variables are:\n",
    "\n",
    "* $$\n",
    "E_{i2} = \\begin{cases}\n",
    "1 & \\text{if $E_i$=2} \\\\\n",
    "0 & \\text{otherwise.}\n",
    "\\end{cases}\n",
    "$$\n",
    "\n",
    "* $$\n",
    "E_{i3} = \\begin{cases}\n",
    "1 & \\text{if $E_i$=3} \\\\\n",
    "0 & \\text{otherwise.}\n",
    "\\end{cases}\n",
    "$$"
   ]
  },
  {
   "cell_type": "markdown",
   "metadata": {
    "slideshow": {
     "slide_type": "slide"
    }
   },
   "source": [
    "### Notes\n",
    "\n",
    "-   Although $E$ has 3 levels, we only added 2 variables to the model.\n",
    "    In a sense, this is because `(Intercept)` (i.e. $\\beta_0$) absorbs one level.\n",
    "\n",
    "-   If we added three variables then the columns of design matrix would\n",
    "    be linearly dependent so we would not have a unique least squares solution.\n",
    "\n",
    "-   Assumes $\\beta_1$ – effect of experience is the same in all groups,\n",
    "    unlike when we fit the model separately. This may or may not be\n",
    "    reasonable."
   ]
  },
  {
   "cell_type": "code",
   "execution_count": null,
   "metadata": {
    "slideshow": {
     "slide_type": "slide"
    }
   },
   "outputs": [],
   "source": [
    "salary.lm <- lm(S ~ E + M + X, salary.table)\n",
    "summary(salary.lm)"
   ]
  },
  {
   "cell_type": "markdown",
   "metadata": {
    "slideshow": {
     "slide_type": "slide"
    }
   },
   "source": [
    "Now, let's take a look at our design matrix"
   ]
  },
  {
   "cell_type": "code",
   "execution_count": null,
   "metadata": {
    "slideshow": {
     "slide_type": "fragment"
    }
   },
   "outputs": [],
   "source": [
    "head(model.matrix(salary.lm))"
   ]
  },
  {
   "cell_type": "markdown",
   "metadata": {
    "slideshow": {
     "slide_type": "slide"
    }
   },
   "source": [
    "Comparing to our actual data, we can understand how the columns above were formed. They were formed\n",
    "just as we had defined them above."
   ]
  },
  {
   "cell_type": "code",
   "execution_count": null,
   "metadata": {
    "slideshow": {
     "slide_type": "fragment"
    }
   },
   "outputs": [],
   "source": [
    "head(model.frame(salary.lm))"
   ]
  },
  {
   "cell_type": "markdown",
   "metadata": {
    "slideshow": {
     "slide_type": "slide"
    }
   },
   "source": [
    "### Effect of experience\n",
    "\n",
    "-   Our model has enforced the constraint the $\\beta_1$ is the same\n",
    "    within each group.\n",
    "\n",
    "-   Graphically, this seems OK, but how can we test this?\n",
    "\n",
    "-   We could fit a model with different slopes in each group, but\n",
    "    keeping as many degrees of freedom as we can.\n",
    "\n",
    "-   This model has *interactions* in it: the effect of experience\n",
    "    depends on what level of education you have.\n"
   ]
  },
  {
   "cell_type": "markdown",
   "metadata": {
    "slideshow": {
     "slide_type": "slide"
    }
   },
   "source": [
    "### Interaction between experience and education\n",
    "\n",
    "-   Model: $$\\begin{aligned}\n",
    "       S_i &= \\beta_0 + \\beta_1 X_i + \\beta_2 E_{i2} + \\beta_3 E_{i3} +\\\n",
    " \\beta_4 M_i \\\\\n",
    "       & \\qquad  + \\beta_5 E_{i2} X_i + \\beta_6 E_{i3} X_i + \\varepsilon_i.\n",
    "       \\end{aligned}$$\n",
    "       \n",
    "- What is the regression function within each group?\n",
    "\n",
    "-   Note that we took each column corresponding to education and\n",
    "    multiplied it by the column for experience to get two new\n",
    "    predictors.\n",
    "\n",
    "-   To test whether the slope is the same in each group we would just\n",
    "    test $H_0:\\beta_5 = \\beta_6=0$.\n",
    "\n",
    "-   Based on figure, we expect not to reject $H_0$."
   ]
  },
  {
   "cell_type": "code",
   "execution_count": null,
   "metadata": {
    "slideshow": {
     "slide_type": "slide"
    }
   },
   "outputs": [],
   "source": [
    "model_XE = lm(S~ E + M + X + X:E, salary.table)\n",
    "summary(model_XE)"
   ]
  },
  {
   "cell_type": "code",
   "execution_count": null,
   "metadata": {
    "slideshow": {
     "slide_type": "slide"
    }
   },
   "outputs": [],
   "source": [
    "anova(salary.lm, model_XE)"
   ]
  },
  {
   "cell_type": "markdown",
   "metadata": {
    "slideshow": {
     "slide_type": "slide"
    }
   },
   "source": [
    "The notation `X:E` denotes an *interaction*. Generally, `R` will take the columns added for `E` and the columns added\n",
    "for `X` and add their elementwise product (Hadamard product) to the design matr.x"
   ]
  },
  {
   "cell_type": "markdown",
   "metadata": {
    "slideshow": {
     "slide_type": "slide"
    }
   },
   "source": [
    "Let's look at our design matrix again to be sure we understand what model was fit."
   ]
  },
  {
   "cell_type": "code",
   "execution_count": null,
   "metadata": {
    "slideshow": {
     "slide_type": "fragment"
    }
   },
   "outputs": [],
   "source": [
    "model.matrix(model_XE)[10:20,]"
   ]
  },
  {
   "cell_type": "markdown",
   "metadata": {
    "slideshow": {
     "slide_type": "slide"
    }
   },
   "source": [
    "## Remember, it's still a model (i.e. a plane)\n",
    "\n",
    "<img src=\"http://stats191.stanford.edu/figs/axes_multiple_full.svg\" width=\"700\">\n"
   ]
  },
  {
   "cell_type": "markdown",
   "metadata": {
    "slideshow": {
     "slide_type": "slide"
    }
   },
   "source": [
    "### Interaction between management and education\n",
    "\n",
    "* We can also test for interactions between qualitative variables.\n",
    "\n",
    "* In our plot, note that Master's in management make more than PhD's in management, but this difference disappears in \n",
    "non-management.\n",
    "\n",
    "* This means the effect of education is different in the two management levels. This is evidence of\n",
    "an *interaction*.\n",
    "\n",
    "* To see this, we plot the residuals within groups separately."
   ]
  },
  {
   "cell_type": "code",
   "execution_count": null,
   "metadata": {
    "slideshow": {
     "slide_type": "slide"
    }
   },
   "outputs": [],
   "source": [
    "plot(salary.table$X, salary.table$S, type='n', xlab='Experience', ylab='Salary')\n",
    "colors <- c('red', 'green', 'blue')\n",
    "symbols <- c(23,24)\n",
    "for (i in 1:3) {\n",
    "    for (j in 0:1) {\n",
    "        subset <- as.logical((salary.table$E == i) * (salary.table$M == j))\n",
    "        points(salary.table$X[subset], salary.table$S[subset], pch=symbols[j+1], bg=colors[i], cex=2)\n",
    "    }\n",
    "}"
   ]
  },
  {
   "cell_type": "code",
   "execution_count": null,
   "metadata": {
    "slideshow": {
     "slide_type": "slide"
    }
   },
   "outputs": [],
   "source": [
    "r = resid(salary.lm)\n",
    "k = 1\n",
    "plot(salary.table$X, r, xlim=c(1,6), type='n', xlab='Group', ylab='Residuals')\n",
    "for (i in 1:3) {\n",
    "    for (j in 0:1) {\n",
    "        subset <- as.logical((salary.table$E == i) * (salary.table$M == j))\n",
    "        points(rep(k, length(r[subset])), r[subset], pch=symbols[j+1], bg=colors[i], cex=2)\n",
    "        k = k+1\n",
    "    }\n",
    "}"
   ]
  },
  {
   "cell_type": "markdown",
   "metadata": {
    "slideshow": {
     "slide_type": "slide"
    }
   },
   "source": [
    "`R` has a special plot that can help visualize this effect, called an `interaction.plot`."
   ]
  },
  {
   "cell_type": "code",
   "execution_count": null,
   "metadata": {
    "slideshow": {
     "slide_type": "fragment"
    }
   },
   "outputs": [],
   "source": [
    "interaction.plot(salary.table$E, salary.table$M, r, type='b', col=c('red',\n",
    "                'blue'), lwd=2, pch=c(23,24))"
   ]
  },
  {
   "cell_type": "markdown",
   "metadata": {
    "slideshow": {
     "slide_type": "slide"
    }
   },
   "source": [
    "### Interaction between management and education\n",
    "\n",
    "-   Based on figure, we expect an interaction effect.\n",
    "\n",
    "-   Fit model $$\\begin{aligned}\n",
    "       S_i &= \\beta_0 + \\beta_1 X_i + \\beta_2 E_{i2} + \\beta_3 E_{i3} +\\\n",
    " \\beta_4 M_i \\\\\n",
    "       & \\qquad  + \\beta_5 E_{i2} M_i + \\beta_6 E_{i3} M_i + \\varepsilon_i.\n",
    "       \\end{aligned}$$\n",
    "\n",
    "-   Again, testing for interaction is testing $H_0:\\beta_5=\\beta_6=0.$\n",
    "\n",
    "- What is the regression function within each group?\n"
   ]
  },
  {
   "cell_type": "code",
   "execution_count": null,
   "metadata": {
    "slideshow": {
     "slide_type": "slide"
    }
   },
   "outputs": [],
   "source": [
    "model_EM = lm(S ~ X + E:M + E + M, salary.table)\n",
    "summary(model_EM)"
   ]
  },
  {
   "cell_type": "code",
   "execution_count": null,
   "metadata": {
    "slideshow": {
     "slide_type": "fragment"
    }
   },
   "outputs": [],
   "source": [
    "anova(salary.lm, model_EM)"
   ]
  },
  {
   "cell_type": "markdown",
   "metadata": {
    "slideshow": {
     "slide_type": "slide"
    }
   },
   "source": [
    "Let's look at our design matrix again to be sure we understand what model was fit."
   ]
  },
  {
   "cell_type": "code",
   "execution_count": null,
   "metadata": {
    "slideshow": {
     "slide_type": "fragment"
    }
   },
   "outputs": [],
   "source": [
    "head(model.matrix(model_EM))"
   ]
  },
  {
   "cell_type": "markdown",
   "metadata": {
    "slideshow": {
     "slide_type": "slide"
    }
   },
   "source": [
    "We will plot the residuals as functions of experience\n",
    "with each *experience* and *management* having a \n",
    "different symbol/color."
   ]
  },
  {
   "cell_type": "code",
   "execution_count": null,
   "metadata": {
    "slideshow": {
     "slide_type": "fragment"
    }
   },
   "outputs": [],
   "source": [
    "r = rstandard(model_EM)\n",
    "plot(salary.table$X, r, type='n')\n",
    "for (i in 1:3) {\n",
    "    for (j in 0:1) {\n",
    "        subset <- as.logical((salary.table$E == i) * (salary.table$M == j))\n",
    "        points(salary.table$X[subset], r[subset], pch=symbols[j+1], bg=colors[i], cex=2)\n",
    "    }\n",
    "}"
   ]
  },
  {
   "cell_type": "markdown",
   "metadata": {
    "slideshow": {
     "slide_type": "slide"
    }
   },
   "source": [
    "One observation seems to be an outlier."
   ]
  },
  {
   "cell_type": "code",
   "execution_count": null,
   "metadata": {
    "slideshow": {
     "slide_type": "fragment"
    }
   },
   "outputs": [],
   "source": [
    "library(car)\n",
    "outlierTest(model_EM)"
   ]
  },
  {
   "cell_type": "markdown",
   "metadata": {
    "slideshow": {
     "slide_type": "slide"
    }
   },
   "source": [
    "Let's refit our model to see that our conclusions are not vastly different."
   ]
  },
  {
   "cell_type": "code",
   "execution_count": null,
   "metadata": {
    "slideshow": {
     "slide_type": "fragment"
    }
   },
   "outputs": [],
   "source": [
    "subs33 = c(1:length(salary.table$S))[-33]\n",
    "salary.lm33 = lm(S ~ E + X + M, data=salary.table, subset=subs33)\n",
    "model_EM33 = lm(S ~ E + X + E:M + M, data=salary.table, subset=subs33)\n",
    "anova(salary.lm33, model_EM33)\n"
   ]
  },
  {
   "cell_type": "markdown",
   "metadata": {
    "slideshow": {
     "slide_type": "slide"
    }
   },
   "source": [
    "Let's replot the residuals"
   ]
  },
  {
   "cell_type": "code",
   "execution_count": null,
   "metadata": {
    "slideshow": {
     "slide_type": "fragment"
    }
   },
   "outputs": [],
   "source": [
    "r = rstandard(model_EM33)\n",
    "mf = model.frame(model_EM33)\n",
    "plot(mf$X, r, type='n')\n",
    "for (i in 1:3) {\n",
    "    for (j in 0:1) {\n",
    "        subset <- as.logical((mf$E == i) * (mf$M == j)) \n",
    "        points(mf$X[subset], r[subset], pch=symbols[j+1], bg=colors[i], cex=2)\n",
    "    }\n",
    "}"
   ]
  },
  {
   "cell_type": "markdown",
   "metadata": {
    "slideshow": {
     "slide_type": "slide"
    }
   },
   "source": [
    "Let's make a final plot of the fitted values."
   ]
  },
  {
   "cell_type": "code",
   "execution_count": null,
   "metadata": {
    "slideshow": {
     "slide_type": "fragment"
    }
   },
   "outputs": [],
   "source": [
    "salaryfinal.lm = lm(S ~ X + E * M, salary.table, subset=subs33)\n",
    "mf = model.frame(salaryfinal.lm)\n",
    "plot(mf$X, mf$S, type='n', xlab='Experience', ylab='Salary')\n",
    "colors <- c('red', 'green', 'blue')\n",
    "ltys <- c(2,3)\n",
    "symbols <- c(23,24)\n",
    "for (i in 1:3) {\n",
    "    for (j in 0:1) {\n",
    "        subset <- as.logical((mf$E == i) * (mf$M == j))\n",
    "        points(mf$X[subset], mf$S[subset], pch=symbols[j+1], bg=colors[i], cex=2)\n",
    "        lines(mf$X[subset], fitted(salaryfinal.lm)[subset], lwd=2, lty=ltys[j], col=colors[i])\n",
    "    }\n",
    "}"
   ]
  },
  {
   "cell_type": "markdown",
   "metadata": {
    "slideshow": {
     "slide_type": "slide"
    }
   },
   "source": [
    "### Visualizing an interaction"
   ]
  },
  {
   "cell_type": "markdown",
   "metadata": {
    "slideshow": {
     "slide_type": "fragment"
    }
   },
   "source": [
    "From our first look at the data, the difference between \n",
    "Master's and PhD in the\n",
    "management group is different than in the non-management\n",
    "group. This is an interaction between the two qualitative\n",
    "variables\n",
    "*management,M* and *education,E*. We can visualize this\n",
    "by first removing the effect of experience, then plotting\n",
    "the means within each of the 6 groups using *interaction.plot*."
   ]
  },
  {
   "cell_type": "code",
   "execution_count": null,
   "metadata": {
    "slideshow": {
     "slide_type": "slide"
    }
   },
   "outputs": [],
   "source": [
    "U = salary.table$S - salary.table$X * model_EM$coef['X']\n",
    "interaction.plot(salary.table$E, salary.table$M, U, type='b', col=c('red',\n",
    "                'blue'), lwd=2, pch=c(23,24))\n"
   ]
  },
  {
   "cell_type": "markdown",
   "metadata": {
    "slideshow": {
     "slide_type": "slide"
    }
   },
   "source": [
    "### Jobtest employment data (RABE)\n",
    "\n",
    "<table>\n",
    "<tr><td><b>Variable</b></td><td><b>Description</b></td></tr>\n",
    "<tr><td>TEST</td><td>Job aptitude test score</td></tr>\n",
    "<tr><td>MINORITY</td><td>1 if applicant could be considered minority, 0 otherwise</td></tr>\n",
    "<tr><td>PERF</td><td>Job performance evaluation</td></tr>\n",
    "</table>"
   ]
  },
  {
   "cell_type": "code",
   "execution_count": null,
   "metadata": {
    "slideshow": {
     "slide_type": "slide"
    }
   },
   "outputs": [],
   "source": [
    "url = 'http://stats191.stanford.edu/data/jobtest.table'\n",
    "jobtest.table <- read.table(url, header=T)\n",
    "jobtest.table$MINORITY <- factor(jobtest.table$MINORITY)"
   ]
  },
  {
   "cell_type": "markdown",
   "metadata": {
    "slideshow": {
     "slide_type": "fragment"
    }
   },
   "source": [
    "Since I will be making several plots, it will be easiest to attach `jobtest.table` though I will detach it later.\n",
    "\n",
    "**These plots would be easier with `ggplot`.**"
   ]
  },
  {
   "cell_type": "code",
   "execution_count": null,
   "metadata": {
    "slideshow": {
     "slide_type": "slide"
    }
   },
   "outputs": [],
   "source": [
    "attach(jobtest.table)\n",
    "plot(TEST, JPERF, type='n')\n",
    "points(TEST[(MINORITY == 0)], JPERF[(MINORITY == 0)], pch=21, cex=2, \n",
    "       bg='purple')\n",
    "points(TEST[(MINORITY == 1)], JPERF[(MINORITY == 1)], pch=25, cex=2, bg='green')"
   ]
  },
  {
   "cell_type": "markdown",
   "metadata": {
    "slideshow": {
     "slide_type": "slide"
    }
   },
   "source": [
    "### General model\n",
    "\n",
    "-   In theory, there may be a linear relationship between $JPERF$ and\n",
    "    $TEST$ but it could be different by group.\n",
    "\n",
    "-   Model:\n",
    "    $$JPERF_i = \\beta_0 + \\beta_1 TEST_i + \\beta_2 MINORITY_i + \\beta_3 MINORITY_i * TEST_i + \\varepsilon_i.$$\n",
    "\n",
    "-   Regression functions:\n",
    "   $$\n",
    "   Y_i =\n",
    "   \\begin{cases}\n",
    "   \\beta_0 + \\beta_1 TEST_i + \\varepsilon_i & \\text{if $MINORITY_i$=0} \\\\\n",
    "   (\\beta_0 + \\beta_2) + (\\beta_1 + \\beta_3) TEST_i + \\varepsilon_i & \\text{if \n",
    "$MINORITY_i=1$.} \\\\\n",
    "   \\end{cases}\n",
    "   $$\n",
    "\n",
    "\n",
    "\n"
   ]
  },
  {
   "cell_type": "markdown",
   "metadata": {
    "slideshow": {
     "slide_type": "slide"
    }
   },
   "source": [
    "### Our first model: ($\\beta_2=\\beta_3=0$)\n",
    "\n",
    "This has no effect for `MINORITY`."
   ]
  },
  {
   "cell_type": "code",
   "execution_count": null,
   "metadata": {
    "slideshow": {
     "slide_type": "fragment"
    }
   },
   "outputs": [],
   "source": [
    "jobtest.lm1 <- lm(JPERF ~ TEST, jobtest.table)\n",
    "print(summary(jobtest.lm1))"
   ]
  },
  {
   "cell_type": "code",
   "execution_count": null,
   "metadata": {
    "slideshow": {
     "slide_type": "slide"
    }
   },
   "outputs": [],
   "source": [
    "plot(TEST, JPERF, type='n')\n",
    "points(TEST[(MINORITY == 0)], JPERF[(MINORITY == 0)], pch=21, cex=2, bg='purple')\n",
    "points(TEST[(MINORITY == 1)], JPERF[(MINORITY == 1)], pch=25, cex=2, bg='green')\n",
    "abline(jobtest.lm1$coef, lwd=3, col='blue')"
   ]
  },
  {
   "cell_type": "markdown",
   "metadata": {
    "slideshow": {
     "slide_type": "slide"
    }
   },
   "source": [
    "### Our second model ($\\beta_3=0$)\n",
    "\n",
    "This model allows for an effect of `MINORITY` but no interaction between `MINORITY` and `TEST`."
   ]
  },
  {
   "cell_type": "code",
   "execution_count": null,
   "metadata": {
    "slideshow": {
     "slide_type": "fragment"
    }
   },
   "outputs": [],
   "source": [
    "jobtest.lm2 = lm(JPERF ~ TEST + MINORITY)\n",
    "print(summary(jobtest.lm2))"
   ]
  },
  {
   "cell_type": "code",
   "execution_count": null,
   "metadata": {
    "slideshow": {
     "slide_type": "slide"
    }
   },
   "outputs": [],
   "source": [
    "plot(TEST, JPERF, type='n')\n",
    "points(TEST[(MINORITY == 0)], JPERF[(MINORITY == 0)], pch=21, cex=2, bg='purple')\n",
    "points(TEST[(MINORITY == 1)], JPERF[(MINORITY == 1)], pch=25, cex=2, bg='green')\n",
    "abline(jobtest.lm2$coef['(Intercept)'], jobtest.lm2$coef['TEST'], lwd=3, col='purple')\n",
    "abline(jobtest.lm2$coef['(Intercept)'] + jobtest.lm2$coef['MINORITY1'], jobtest.lm2$coef['TEST'], lwd=3, col='green')"
   ]
  },
  {
   "cell_type": "markdown",
   "metadata": {
    "slideshow": {
     "slide_type": "slide"
    }
   },
   "source": [
    "### Our third model $(\\beta_2=0)$:\n",
    "\n",
    "This model includes an interaction between `TEST` and `MINORITY`. These lines have the same intercept but possibly different slopes within the `MINORITY` groups."
   ]
  },
  {
   "cell_type": "code",
   "execution_count": null,
   "metadata": {
    "slideshow": {
     "slide_type": "fragment"
    }
   },
   "outputs": [],
   "source": [
    "jobtest.lm3 = lm(JPERF ~ TEST + TEST:MINORITY, jobtest.table)\n",
    "summary(jobtest.lm3)"
   ]
  },
  {
   "cell_type": "code",
   "execution_count": null,
   "metadata": {
    "slideshow": {
     "slide_type": "slide"
    }
   },
   "outputs": [],
   "source": [
    "plot(TEST, JPERF, type='n')\n",
    "points(TEST[(MINORITY == 0)], JPERF[(MINORITY == 0)], pch=21, cex=2, bg='purple')\n",
    "points(TEST[(MINORITY == 1)], JPERF[(MINORITY == 1)], pch=25, cex=2, bg='green')\n",
    "abline(jobtest.lm3$coef['(Intercept)'], jobtest.lm3$coef['TEST'], lwd=3, col='purple')\n",
    "abline(jobtest.lm3$coef['(Intercept)'], jobtest.lm3$coef['TEST'] + jobtest.lm3$coef['TEST:MINORITY1'], lwd=3, col='green')"
   ]
  },
  {
   "cell_type": "markdown",
   "metadata": {
    "slideshow": {
     "slide_type": "slide"
    }
   },
   "source": [
    "Let's look at our design matrix again to be sure we understand which model was fit."
   ]
  },
  {
   "cell_type": "code",
   "execution_count": null,
   "metadata": {
    "slideshow": {
     "slide_type": "fragment"
    }
   },
   "outputs": [],
   "source": [
    "head(model.matrix(jobtest.lm3))"
   ]
  },
  {
   "cell_type": "markdown",
   "metadata": {
    "slideshow": {
     "slide_type": "slide"
    }
   },
   "source": [
    "### Our final model: no constraints\n",
    "\n",
    "This model allows for different intercepts and different slopes."
   ]
  },
  {
   "cell_type": "code",
   "execution_count": null,
   "metadata": {
    "slideshow": {
     "slide_type": "fragment"
    }
   },
   "outputs": [],
   "source": [
    "jobtest.lm4 = lm(JPERF ~ TEST * MINORITY, jobtest.table)\n",
    "summary(jobtest.lm4)"
   ]
  },
  {
   "cell_type": "code",
   "execution_count": null,
   "metadata": {
    "slideshow": {
     "slide_type": "slide"
    }
   },
   "outputs": [],
   "source": [
    "plot(TEST, JPERF, type='n')\n",
    "points(TEST[(MINORITY == 0)], JPERF[(MINORITY == 0)], pch=21, cex=2, bg='purple')\n",
    "points(TEST[(MINORITY == 1)], JPERF[(MINORITY == 1)], pch=25, cex=2, bg='green')\n",
    "abline(jobtest.lm4$coef['(Intercept)'], jobtest.lm4$coef['TEST'], lwd=3, col='purple')\n",
    "abline(jobtest.lm4$coef['(Intercept)'] + jobtest.lm4$coef['MINORITY1'],\n",
    "      jobtest.lm4$coef['TEST'] + jobtest.lm4$coef['TEST:MINORITY1'], lwd=3, col='green')"
   ]
  },
  {
   "cell_type": "markdown",
   "metadata": {
    "slideshow": {
     "slide_type": "slide"
    }
   },
   "source": [
    "The expression `TEST*MINORITY` is shorthand for `TEST + MINORITY + TEST:MINORITY`."
   ]
  },
  {
   "cell_type": "code",
   "execution_count": null,
   "metadata": {
    "slideshow": {
     "slide_type": "fragment"
    }
   },
   "outputs": [],
   "source": [
    "head(model.matrix(jobtest.lm4))"
   ]
  },
  {
   "cell_type": "markdown",
   "metadata": {
    "slideshow": {
     "slide_type": "slide"
    }
   },
   "source": [
    "### Comparing models"
   ]
  },
  {
   "cell_type": "markdown",
   "metadata": {
    "slideshow": {
     "slide_type": "fragment"
    }
   },
   "source": [
    "Is there any effect of MINORITY on slope or intercept?"
   ]
  },
  {
   "cell_type": "code",
   "execution_count": null,
   "metadata": {
    "slideshow": {
     "slide_type": "fragment"
    }
   },
   "outputs": [],
   "source": [
    "anova(jobtest.lm1, jobtest.lm4) # ~ TEST to ~ TEST * MINORITY"
   ]
  },
  {
   "cell_type": "markdown",
   "metadata": {
    "slideshow": {
     "slide_type": "slide"
    }
   },
   "source": [
    "Is there any effect of MINORITY on intercept? (Assuming we have accepted the hypothesis that the slope is the same within\n",
    "each group)."
   ]
  },
  {
   "cell_type": "code",
   "execution_count": null,
   "metadata": {
    "slideshow": {
     "slide_type": "fragment"
    }
   },
   "outputs": [],
   "source": [
    "anova(jobtest.lm1, jobtest.lm2) # ~ TEST to ~ TEST + MINORITY"
   ]
  },
  {
   "cell_type": "markdown",
   "metadata": {
    "slideshow": {
     "slide_type": "slide"
    }
   },
   "source": [
    "We could also have allowed for the possiblity that the slope is different within each group and still check for a different intercept."
   ]
  },
  {
   "cell_type": "code",
   "execution_count": null,
   "metadata": {
    "slideshow": {
     "slide_type": "fragment"
    }
   },
   "outputs": [],
   "source": [
    "anova(jobtest.lm3, jobtest.lm4) # ~ TEST + TEST:MINORITY to \n",
    "                                # ~ TEST * MINORITY"
   ]
  },
  {
   "cell_type": "markdown",
   "metadata": {
    "slideshow": {
     "slide_type": "slide"
    }
   },
   "source": [
    "Is there any effect of `MINORITY` on slope?  (Assuming we have accepted the hypothesis that the intercept is the same within each\n",
    "group)."
   ]
  },
  {
   "cell_type": "code",
   "execution_count": null,
   "metadata": {
    "slideshow": {
     "slide_type": "fragment"
    }
   },
   "outputs": [],
   "source": [
    "anova(jobtest.lm1, jobtest.lm3) # ~ TEST vs. ~ TEST + TEST:MINORITY"
   ]
  },
  {
   "cell_type": "markdown",
   "metadata": {
    "slideshow": {
     "slide_type": "slide"
    }
   },
   "source": [
    "Again, we could have allowed for the possibility that the intercept is different within each group."
   ]
  },
  {
   "cell_type": "code",
   "execution_count": null,
   "metadata": {
    "slideshow": {
     "slide_type": "fragment"
    }
   },
   "outputs": [],
   "source": [
    "anova(jobtest.lm2, jobtest.lm4) # ~ TEST + MINORITY vs. \n",
    "                                # ~ TEST * MINORITY"
   ]
  },
  {
   "cell_type": "markdown",
   "metadata": {
    "slideshow": {
     "slide_type": "fragment"
    }
   },
   "source": [
    "In summary, without taking the several tests into account here, there does seem to be some evidence\n",
    "that the  slope is different within the two groups."
   ]
  },
  {
   "cell_type": "code",
   "execution_count": null,
   "metadata": {
    "slideshow": {
     "slide_type": "fragment"
    }
   },
   "outputs": [],
   "source": [
    "detach(jobtest.table)"
   ]
  },
  {
   "cell_type": "markdown",
   "metadata": {
    "slideshow": {
     "slide_type": "slide"
    }
   },
   "source": [
    "## Model selection\n",
    "\n",
    "Already with this simple dataset (simpler than the IT salary data) we have 4 competing models. How are we going\n",
    "to arrive at a final model? \n",
    "\n",
    "This highlights the need for *model selection*. We will come to this topic shortly."
   ]
  }
 ],
 "metadata": {
  "anaconda-cloud": {},
  "celltoolbar": "Slideshow",
  "kernelspec": {
   "display_name": "R",
   "language": "R",
   "name": "ir"
  },
  "language_info": {
   "codemirror_mode": "r",
   "file_extension": ".r",
   "mimetype": "text/x-r-source",
   "name": "R",
   "pygments_lexer": "r",
   "version": "3.3.3"
  }
 },
 "nbformat": 4,
 "nbformat_minor": 1
}
