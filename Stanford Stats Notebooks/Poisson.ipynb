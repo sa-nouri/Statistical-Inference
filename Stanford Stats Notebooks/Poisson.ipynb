{
 "cells": [
  {
   "cell_type": "markdown",
   "metadata": {
    "slideshow": {
     "slide_type": "slide"
    }
   },
   "source": [
    "# Poisson regression\n",
    "\n",
    "* Contingency tables.\n",
    "* Log-linear regression.\n",
    "* Log-linear regression as a generalized linear model."
   ]
  },
  {
   "cell_type": "markdown",
   "metadata": {
    "slideshow": {
     "slide_type": "slide"
    }
   },
   "source": [
    "# Count data\n",
    "\n",
    "## Afterlife\n",
    "\n",
    "Men and women were asked whether they believed in the after life (1991 General Social Survey).\n",
    " \n",
    "  *   | Y | N or U | Total\n",
    "----- | --- | --- | ---\n",
    "    M | 435 | 147 | 582\n",
    "    F | 375 | 134 | 509\n",
    "Total | 810 | 281 | 1091\n",
    "\n",
    "Question: is belief in the afterlife independent of sex?"
   ]
  },
  {
   "cell_type": "markdown",
   "metadata": {
    "slideshow": {
     "slide_type": "slide"
    }
   },
   "source": [
    "## Poisson counts\n",
    "\n",
    "### Definition\n",
    "\n",
    "* A random variable $Y$ is a Poisson random variable with parameter $\\lambda$ if \n",
    "$$P(Y=j) = e^{-\\lambda} \\frac{\\lambda^j}{j!}, \\qquad \\forall j \\geq 0.$$\n",
    "* Some simple calculations show that $E(Y)=\\text{Var}(Y)=\\lambda.$\n",
    "* Poisson models for counts are analogous to Gaussian for continuous outcomes -- they appear in many common models."
   ]
  },
  {
   "cell_type": "markdown",
   "metadata": {
    "slideshow": {
     "slide_type": "slide"
    }
   },
   "source": [
    "## Contingency table\n",
    "\n",
    "* Model: $Y_{ij} \\sim  Poisson(\\lambda_{ij} )$.\n",
    "* Null (independence):\n",
    "   $H_0 :\\lambda_{ij} = \\delta \\cdot \\alpha_i \\cdot \\beta_j , \\sum_i \\alpha_i = 1,  \\sum_j \\beta_j = 1.$\n",
    "* Alternative:\n",
    "   $H_a : \\lambda_{ij} \\in \\mathbb{R}^+$\n",
    "* Test statistic:\n",
    "   Pearson’s $X^2$ : $X^2 = \\sum_{ij} \\frac{(Y_{ij}-E_{ij})^2}{E_{ij}} \\overset{H_0}{\\approx} \\chi^2_1$\n",
    "* Here $E_{ij}$ is the estimated expected value under independence.\n",
    "* Why 1 df ? Independence model has 5 parameters, two constraints = 3 df. Unrestricted has 4 parameters.\n",
    "* This is actually a *regression model*\n",
    "   for the count data."
   ]
  },
  {
   "cell_type": "code",
   "execution_count": null,
   "metadata": {
    "slideshow": {
     "slide_type": "slide"
    }
   },
   "outputs": [],
   "source": [
    "Y = c(435,147,375,134)\n",
    "S = factor(c('M','M','F','F'))\n",
    "B = factor(c('Y','N','Y','N'))\n",
    "\n",
    "N = sum(Y)\n",
    "piS = c((435+147)/N,(375+134)/N)\n",
    "piB = c((435+375)/N,(147+134)/N)\n",
    "\n",
    "E = N*c(piS[1]*piB[1], piS[1]*piB[2], piS[2]*piB[1], piS[2]*piB[2])\n",
    "# Pearson's X^2\n",
    "X2 = sum((Y - E)^2/E)\n",
    "c(X2, 1-pchisq(X2,1))"
   ]
  },
  {
   "cell_type": "markdown",
   "metadata": {
    "slideshow": {
     "slide_type": "slide"
    }
   },
   "source": [
    "The independence test is called `chisq.test` in R. Depending on whether one corrects\n",
    "or not, we get the $X^2$ or a corrected version."
   ]
  },
  {
   "cell_type": "code",
   "execution_count": null,
   "metadata": {
    "slideshow": {
     "slide_type": "fragment"
    }
   },
   "outputs": [],
   "source": [
    "chisq.test(matrix(Y,2,2), correct=FALSE)"
   ]
  },
  {
   "cell_type": "code",
   "execution_count": null,
   "metadata": {
    "slideshow": {
     "slide_type": "fragment"
    }
   },
   "outputs": [],
   "source": [
    "chisq.test(matrix(Y,2,2))"
   ]
  },
  {
   "cell_type": "markdown",
   "metadata": {
    "slideshow": {
     "slide_type": "slide"
    }
   },
   "source": [
    "## Contingency table as regression model\n",
    "\n",
    "* Under independence $\\begin{aligned}\n",
    "       \\log(E (Y_{ij} )) &= \\log \\lambda_{ij} = \\log \\delta  + \\log \\alpha_i + \\log \\beta_j\n",
    "     \\end{aligned}$\n",
    "* OR, the model has a *log link*.\n",
    "* What about the variance? Because of Poisson assumption $Var(Y_{ij} ) = E (Y_{ij})$\n",
    "* OR, the *variance function*\n",
    "   is $V (\\mu) = \\mu.$"
   ]
  },
  {
   "cell_type": "markdown",
   "metadata": {
    "slideshow": {
     "slide_type": "slide"
    }
   },
   "source": [
    "The goodness of fit test can also be found using a `glm`."
   ]
  },
  {
   "cell_type": "code",
   "execution_count": null,
   "metadata": {
    "slideshow": {
     "slide_type": "fragment"
    }
   },
   "outputs": [],
   "source": [
    "summary(glm(Y ~ S + B, family=poisson()))"
   ]
  },
  {
   "cell_type": "markdown",
   "metadata": {
    "slideshow": {
     "slide_type": "slide"
    }
   },
   "source": [
    "This model has the same fitted values as we had computed by hand above."
   ]
  },
  {
   "cell_type": "code",
   "execution_count": null,
   "metadata": {
    "slideshow": {
     "slide_type": "fragment"
    }
   },
   "outputs": [],
   "source": [
    "fitted(glm(Y ~ S+B, family=poisson()))\n",
    "E"
   ]
  },
  {
   "cell_type": "markdown",
   "metadata": {
    "slideshow": {
     "slide_type": "slide"
    }
   },
   "source": [
    "- Here is the deviance test statistic. \n",
    "\n",
    "- It is numerically close, but\n",
    "not identical to Pearson's $X^2$ for this data."
   ]
  },
  {
   "cell_type": "code",
   "execution_count": null,
   "metadata": {
    "slideshow": {
     "slide_type": "fragment"
    }
   },
   "outputs": [],
   "source": [
    "DEV = sum(2*(Y*log(Y/E)+Y-E))\n",
    "c(X2, DEV)"
   ]
  },
  {
   "cell_type": "markdown",
   "metadata": {
    "slideshow": {
     "slide_type": "slide"
    }
   },
   "source": [
    "## Contingency table $(k \\times m)$\n",
    "\n",
    "* Suppose we had $k$ categories on one axis, $m$ on the other (i.e. previous example $k = m = 2$). We call this as $k \\times m$ contingency table.\n",
    "* Independence model $(H_0)$: $\\log(E (Y_{ij} )) = \\log \\lambda_{ij} = \\log \\delta  + \\log \\alpha_i + \\log \\beta_j$\n",
    "* Test for independence: Pearson’s $$X^2 = \\sum_{ij} \\frac{(Y_{ij}-E_{ij})^2}{E_{ij}} \\overset{H_0}{\\approx} \\chi^2_{(k-1)(m-1)}$$\n",
    "* Alternative test statistic $G = 2\\sum_{ij} Y_{ij} \\log \\left(\\frac{Y_{ij}}{E_{ij}}\\right)$"
   ]
  },
  {
   "cell_type": "markdown",
   "metadata": {
    "slideshow": {
     "slide_type": "slide"
    }
   },
   "source": [
    "## Independence tests\n",
    "\n",
    "* Unlike in other cases, in this case the *full model*\n",
    "   has as many parameters as observations (i.e. it’s saturated).\n",
    "* This test is known as a *goodness of fit*\n",
    "   test.\n",
    "* It tests: \"how well does the independence model fit this data\"?\n",
    "\n",
    "* Unlike other tests we've seen, the deviance is the test statistic, not a difference of deviance."
   ]
  },
  {
   "cell_type": "markdown",
   "metadata": {
    "slideshow": {
     "slide_type": "slide"
    }
   },
   "source": [
    "## Lumber company example\n",
    "\n",
    "* $Y$ : number of customers visting store from region;\n",
    "* $X_1$ : number of housing units in region;\n",
    "* $X_2$ : average household income;\n",
    "* $X_3$ : average housing unit age in region;\n",
    "* $X_4$ : distance to nearest competitor;\n",
    "* $X_5$ : distance to store in miles."
   ]
  },
  {
   "cell_type": "markdown",
   "metadata": {
    "slideshow": {
     "slide_type": "slide"
    }
   },
   "source": [
    "## Poisson (log-linear) regression model\n",
    "\n",
    "* Given observations and covariates $Y_i , X_{ij} , 1 \\leq i  \\leq n, 1 \\leq j  \\leq p$.\n",
    "* Model:\n",
    "   $$Y_{i} \\sim Poisson \\left(\\exp\\left(\\beta_0 + \\sum_{j=1}^p \\beta_j X_{ij} \\right)\\right)$$\n",
    "* Poisson assumption implies the variance function is $V (\\mu) = \\mu.$"
   ]
  },
  {
   "cell_type": "code",
   "execution_count": null,
   "metadata": {
    "slideshow": {
     "slide_type": "slide"
    }
   },
   "outputs": [],
   "source": [
    "url = 'http://stats191.stanford.edu/data/lumber.table'\n",
    "lumber.table = read.table(url, header=T)\n",
    "lumber.glm = glm(Customers ~ Housing + Income + Age + Competitor + Store, \n",
    "                 family=poisson(), data=lumber.table)\n",
    "summary(lumber.glm)"
   ]
  },
  {
   "cell_type": "code",
   "execution_count": null,
   "metadata": {
    "slideshow": {
     "slide_type": "slide"
    }
   },
   "outputs": [],
   "source": [
    "par(mfrow=c(2,2))\n",
    "plot(lumber.glm)"
   ]
  },
  {
   "cell_type": "markdown",
   "metadata": {
    "slideshow": {
     "slide_type": "slide"
    }
   },
   "source": [
    "## Interpretation of coefficients\n",
    "\n",
    "* The log-linear model means covariates have *multiplicative*\n",
    "   effect.\n",
    "* Log-linear model model: $\\frac{E(Y|\\dots, X_j=x_j+h, \\dots)}{E(Y|\\dots, X_j=x_j, \\dots)} = e^{h \\cdot \\beta_j}$\n",
    "* So, one unit increase in variable $j$ results in $e^{\\beta_j}$ (multiplicative) increase the expected count, all other parameters being equal."
   ]
  },
  {
   "cell_type": "markdown",
   "metadata": {
    "slideshow": {
     "slide_type": "slide"
    }
   },
   "source": [
    "## Generalized linear models\n",
    "\n",
    "* Logistic model: ${\\text{logit}}(\\pi(X)) = \\beta_0 + \\sum_j \\beta_j X_j \\qquad V(\\pi)=\\pi(1-\\pi)$\n",
    "* Poisson log-linear model: $\\log(\\mu(X)) = \\beta_0 + \\sum_j \\beta_j X_j, \\qquad V(\\mu) = \\mu$\n",
    "* These are the ingredients to a GLM …"
   ]
  },
  {
   "cell_type": "markdown",
   "metadata": {
    "slideshow": {
     "slide_type": "slide"
    }
   },
   "source": [
    "## Deviance tests\n",
    "\n",
    "* To test $H_0:{\\cal M}={\\cal M}_R$ vs. $H_a: {\\cal M}={\\cal M}_F$, we use $$DEV({\\cal M}_R) - DEV({\\cal M}_F) \\sim \\chi^2_{df_R-df_F}$$\n",
    "* In contingency example ${\\cal M}_R$ is the independence model $$\\log(E(Y_{ij})) = \\log\\delta + \\log \\alpha_i  + \\log \\beta_j$$ with ${\\cal M}_F$ being the *saturated model*: no constraints on $E(Y_{ij})$."
   ]
  },
  {
   "cell_type": "code",
   "execution_count": null,
   "metadata": {
    "slideshow": {
     "slide_type": "fragment"
    }
   },
   "outputs": [],
   "source": [
    "lumber.R.glm = glm(Customers ~ Housing + Income + Age, \n",
    "                   family=poisson, data=lumber.table)\n",
    "anova(lumber.R.glm, lumber.glm)\n",
    "pchisq(263.45, 2, lower=FALSE, log=TRUE)"
   ]
  },
  {
   "cell_type": "code",
   "execution_count": null,
   "metadata": {
    "slideshow": {
     "slide_type": "fragment"
    }
   },
   "outputs": [],
   "source": [
    "1 - pchisq(263.45, 2)"
   ]
  },
  {
   "cell_type": "markdown",
   "metadata": {
    "slideshow": {
     "slide_type": "slide"
    }
   },
   "source": [
    "## Model selection\n",
    "\n",
    "- As it is a likelihood model, `step` can also be used for model selection."
   ]
  },
  {
   "cell_type": "code",
   "execution_count": null,
   "metadata": {
    "slideshow": {
     "slide_type": "fragment"
    }
   },
   "outputs": [],
   "source": [
    "step(lumber.glm)"
   ]
  },
  {
   "cell_type": "code",
   "execution_count": null,
   "metadata": {
    "slideshow": {
     "slide_type": "fragment"
    }
   },
   "outputs": [],
   "source": [
    "step(glm(Customers ~ 1, data=lumber.table, family=poisson()), scope=list(upper=lumber.glm), direction='forward')"
   ]
  },
  {
   "cell_type": "markdown",
   "metadata": {
    "slideshow": {
     "slide_type": "slide"
    }
   },
   "source": [
    "# LASSO\n",
    "\n",
    "- LASSO also applicable"
   ]
  },
  {
   "cell_type": "code",
   "execution_count": null,
   "metadata": {
    "slideshow": {
     "slide_type": "fragment"
    }
   },
   "outputs": [],
   "source": [
    "library(glmnet)\n",
    "X = model.matrix(lumber.glm)[,-1]\n",
    "Y = lumber.table$Customers\n",
    "G = glmnet(X, Y, family='poisson')\n",
    "plot(G)"
   ]
  }
 ],
 "metadata": {
  "anaconda-cloud": {},
  "celltoolbar": "Slideshow",
  "kernelspec": {
   "display_name": "R",
   "language": "R",
   "name": "ir"
  },
  "language_info": {
   "codemirror_mode": "r",
   "file_extension": ".r",
   "mimetype": "text/x-r-source",
   "name": "R",
   "pygments_lexer": "r",
   "version": "3.3.3"
  }
 },
 "nbformat": 4,
 "nbformat_minor": 1
}
