{
 "cells": [
  {
   "cell_type": "markdown",
   "metadata": {},
   "source": [
    "## Some help for R"
   ]
  },
  {
   "cell_type": "markdown",
   "metadata": {},
   "source": [
    "In this short notebook, I will go through a few basic \n",
    "examples in `R` that you may find useful for the course.\n",
    "\n",
    "These are just some of the things I find useful. Feel free to search\n",
    "around for others. \n",
    "\n",
    "For those of you who have done some programming before, you will notice\n",
    "that `R` is a functional programming language."
   ]
  },
  {
   "cell_type": "markdown",
   "metadata": {},
   "source": [
    "### Functions"
   ]
  },
  {
   "cell_type": "markdown",
   "metadata": {},
   "source": [
    "You might get tired of always typing http://stats191.stanford.edu/data.\n",
    "You could make a small function"
   ]
  },
  {
   "cell_type": "code",
   "execution_count": null,
   "metadata": {},
   "outputs": [],
   "source": [
    "useful_function = function(dataname) {\n",
    "    return(paste(\"http://stats191.stanford.edu/data/\", dataname, sep=''))\n",
    "}\n",
    "\n",
    "useful_function(\"groundhog.table\")"
   ]
  },
  {
   "cell_type": "markdown",
   "metadata": {},
   "source": [
    "Let's load the heights data with less code"
   ]
  },
  {
   "cell_type": "code",
   "execution_count": null,
   "metadata": {},
   "outputs": [],
   "source": [
    "h.table = read.table(useful_function(\"groundhog.table\"), header=TRUE, sep=',')   \n",
    "head(h.table)"
   ]
  },
  {
   "cell_type": "markdown",
   "metadata": {},
   "source": [
    "Or, for all data sets in the course directory, we might try"
   ]
  },
  {
   "cell_type": "code",
   "execution_count": null,
   "metadata": {},
   "outputs": [],
   "source": [
    "course_dataset = function(dataname, sep='', header=TRUE) {\n",
    "    read.table(useful_function(dataname), header=header, sep=sep)\n",
    "}\n",
    "head(course_dataset('groundhog.table', sep=','))"
   ]
  },
  {
   "cell_type": "markdown",
   "metadata": {},
   "source": [
    "Note that I didn't use `return` in the function above. By default, `R` will return the\n",
    "object in the last line of the function code."
   ]
  },
  {
   "cell_type": "code",
   "execution_count": null,
   "metadata": {},
   "outputs": [],
   "source": [
    "test_func = function(x) {\n",
    "    x^2\n",
    "    3\n",
    "}\n",
    "test_func(4)"
   ]
  },
  {
   "cell_type": "markdown",
   "metadata": {},
   "source": [
    "### Source"
   ]
  },
  {
   "cell_type": "markdown",
   "metadata": {},
   "source": [
    "When working on a particular project or assignment, it is often\n",
    "easiest to type commands in a text editor and rerun them several times.\n",
    "The command *source* is an easy way to do this, and it takes either\n",
    "the name of a file or a URL as argument. \n",
    "Suppose we have a\n",
    "webpage http://stats191.stanford.edu/R/helper_code.R"
   ]
  },
  {
   "cell_type": "markdown",
   "metadata": {},
   "source": [
    "\n",
    "Then, we can execute this as follows"
   ]
  },
  {
   "cell_type": "code",
   "execution_count": null,
   "metadata": {},
   "outputs": [],
   "source": [
    "source(\"http://stats191.stanford.edu/R/helper_code.R\")\n",
    "head(course_dataset(\"groundhog.table\", sep=','))"
   ]
  },
  {
   "cell_type": "markdown",
   "metadata": {},
   "source": [
    "As you go through the course, you might copy this file to a your computer\n",
    "and add some other useful functions\n",
    "to this file. \n",
    "\n",
    "For larger collections of functions, `R` allows the creation of packages that can be \n",
    "installed and loaded with a call to the `library` function. Documentation on packages can be found [here](http://cran.r-project.org/doc/manuals/R-exts.html).\n",
    "\n"
   ]
  },
  {
   "cell_type": "markdown",
   "metadata": {},
   "source": [
    "### Concatenation, sequences"
   ]
  },
  {
   "cell_type": "markdown",
   "metadata": {},
   "source": [
    "Many tasks involving sequences of numbers.  Here are some basic examples on \n",
    "how to manipulate and create sequences.\n",
    "\n",
    "The function `c`, concatenation, is used often in R, as are\n",
    "`rep` and `seq`"
   ]
  },
  {
   "cell_type": "code",
   "execution_count": null,
   "metadata": {},
   "outputs": [],
   "source": [
    "X = 3\n",
    "Y = 4\n",
    "c(X,Y)"
   ]
  },
  {
   "cell_type": "markdown",
   "metadata": {},
   "source": [
    "The function `rep` denotes *repeat*."
   ]
  },
  {
   "cell_type": "code",
   "execution_count": null,
   "metadata": {},
   "outputs": [],
   "source": [
    "print(rep(1,4))\n",
    "print(rep(2,3))\n",
    "c(rep(1,4), rep(2,3))"
   ]
  },
  {
   "cell_type": "markdown",
   "metadata": {},
   "source": [
    "The function `seq` denotes sequence. There are various ways of specifying the sequence."
   ]
  },
  {
   "cell_type": "code",
   "execution_count": null,
   "metadata": {},
   "outputs": [],
   "source": [
    "seq(0,10,length=11)"
   ]
  },
  {
   "cell_type": "code",
   "execution_count": null,
   "metadata": {},
   "outputs": [],
   "source": [
    "seq(0,10,by=2)"
   ]
  },
  {
   "cell_type": "markdown",
   "metadata": {},
   "source": [
    "You can sort and order sequences"
   ]
  },
  {
   "cell_type": "code",
   "execution_count": null,
   "metadata": {},
   "outputs": [],
   "source": [
    "X = c(4,6,2,9)\n",
    "sort(X)"
   ]
  },
  {
   "cell_type": "markdown",
   "metadata": {},
   "source": [
    "Use an ordering of X to sort a list of Y in the same order"
   ]
  },
  {
   "cell_type": "code",
   "execution_count": null,
   "metadata": {},
   "outputs": [],
   "source": [
    "Y = c(1,2,3,4)\n",
    "o = order(X)\n",
    "X[o]\n",
    "Y[o]"
   ]
  },
  {
   "cell_type": "markdown",
   "metadata": {},
   "source": [
    "A word of caution. In `R` you can overwrite builtin functions so try not to call variables `c`:"
   ]
  },
  {
   "cell_type": "code",
   "execution_count": null,
   "metadata": {},
   "outputs": [],
   "source": [
    "c = 3\n",
    "c"
   ]
  },
  {
   "cell_type": "markdown",
   "metadata": {},
   "source": [
    "However, this has not overwritten the function `c`."
   ]
  },
  {
   "cell_type": "code",
   "execution_count": null,
   "metadata": {},
   "outputs": [],
   "source": [
    "c(3,4,5)"
   ]
  },
  {
   "cell_type": "markdown",
   "metadata": {},
   "source": [
    "Other variables to be careful are the aliases `T` for `TRUE` and `F` for `FALSE`. Since we compute $t$ and $F$ statistics it is natural to also have variables named `T` so when you are expecting `T` to be `TRUE` you might get a surprise."
   ]
  },
  {
   "cell_type": "code",
   "execution_count": null,
   "metadata": {},
   "outputs": [],
   "source": [
    "c(T,F)"
   ]
  },
  {
   "cell_type": "markdown",
   "metadata": {},
   "source": [
    "For other style advice, try reading Hadley Wickham's [style guide](http://adv-r.had.co.nz/Style.html). This is part of a fairly extensive online [book](http://adv-r.had.co.nz). Google also has a [style guide](http://google-styleguide.googlecode.com/svn/trunk/Rguide.xml)."
   ]
  },
  {
   "cell_type": "markdown",
   "metadata": {},
   "source": [
    "### Indexing"
   ]
  },
  {
   "cell_type": "markdown",
   "metadata": {},
   "source": [
    "Often times, we will want to extract a subset of rows (or columns) of a vector (or matrix). `R` supports using logical vectors as index objects."
   ]
  },
  {
   "cell_type": "code",
   "execution_count": null,
   "metadata": {},
   "outputs": [],
   "source": [
    "X = c(4,5,3,6,7,9)\n",
    "Y = c(4,2,65,3,5,9)\n",
    "X[Y>=5]"
   ]
  },
  {
   "cell_type": "markdown",
   "metadata": {},
   "source": [
    "Suppose we have a `data.frame` and want to extract from rows or columns. Rows are the first of two indexing objects while columns correspond to the second indexing object. Suppose we want to find take the mother and daughter heights where the daughter's height is less than or equal to 62 inches. Note the \",\" in the square brackets below: this tells `R` that it is looking for a subset of *rows* of the `data.frame`."
   ]
  },
  {
   "cell_type": "code",
   "execution_count": null,
   "metadata": {},
   "outputs": [],
   "source": [
    "library(alr3)\n",
    "data(heights)\n",
    "head(heights)\n",
    "subset_heights = heights[heights$Dheight <= 62,]\n",
    "print(c(nrow(heights), nrow(subset_heights)))"
   ]
  },
  {
   "cell_type": "markdown",
   "metadata": {},
   "source": [
    "### Plotting"
   ]
  },
  {
   "cell_type": "markdown",
   "metadata": {},
   "source": [
    "`R` has a very rich plotting library. Most of our plots will be\n",
    "fairly straightforward, \"scatter plots\".\n"
   ]
  },
  {
   "cell_type": "code",
   "execution_count": null,
   "metadata": {},
   "outputs": [],
   "source": [
    "X = c(1:40)\n",
    "Y = 2 + 3 * X + rnorm(40) * 10\n",
    "plot(X, Y)\n"
   ]
  },
  {
   "cell_type": "markdown",
   "metadata": {},
   "source": [
    "The plots can be made nicer by adding colors and using different symbols.\n",
    "See the help for function *par*.\n"
   ]
  },
  {
   "cell_type": "code",
   "execution_count": null,
   "metadata": {},
   "outputs": [],
   "source": [
    "plot(X, Y, pch=21, bg='red')"
   ]
  },
  {
   "cell_type": "markdown",
   "metadata": {},
   "source": [
    "You can add titles, as well as change the axis labels."
   ]
  },
  {
   "cell_type": "code",
   "execution_count": null,
   "metadata": {},
   "outputs": [],
   "source": [
    "plot(X, Y, pch=23, bg='red', main='A simulated data set', xlab='Predictor', ylab='Outcome')"
   ]
  },
  {
   "cell_type": "markdown",
   "metadata": {},
   "source": [
    "Lines are added with *abline*. We'll add some lines to our previous plot: a yellow line with\n",
    "intercept 2, slope 3, width 3, type 2, as well as a vertical line at x=20 and horizontal line at y=60."
   ]
  },
  {
   "cell_type": "code",
   "execution_count": null,
   "metadata": {},
   "outputs": [],
   "source": [
    "plot(X, Y, pch=23, bg='red', main='A simulated data set', xlab='Predictor', ylab='Outcome')\n",
    "abline(2, 3, lwd=3, lty=2, col='yellow') \n",
    "abline(h=60, col='green')   \n",
    "abline(v=20, col='red')"
   ]
  },
  {
   "cell_type": "markdown",
   "metadata": {},
   "source": [
    "You can add points and lines to existing plots. In this example, we plot\n",
    "the first 20 points in red in one call to `plot`, then add the rest in blue with\n",
    "an orange line connecting them."
   ]
  },
  {
   "cell_type": "code",
   "execution_count": null,
   "metadata": {},
   "outputs": [],
   "source": [
    "plot(X[1:20], Y[1:20], pch=21, bg='red', xlim=c(min(X),max(X)), ylim=c(min(Y),max(Y)))\n",
    "points(X[21:40], Y[21:40], pch=21, bg='blue')        \n",
    "lines(X[21:40], Y[21:40], lwd=2, lty=3, col='orange')   "
   ]
  },
  {
   "cell_type": "markdown",
   "metadata": {},
   "source": [
    "You can put more than one plot on each device. Here we create\n",
    "a 2-by-1 grid of plots"
   ]
  },
  {
   "cell_type": "code",
   "execution_count": null,
   "metadata": {},
   "outputs": [],
   "source": [
    "par(mfrow=c(2,1))\n",
    "plot(X, Y, pch=21, bg='red')\n",
    "plot(Y, X, pch=23, bg='blue')\n",
    "par(mfrow=c(1,1))"
   ]
  },
  {
   "cell_type": "markdown",
   "metadata": {},
   "source": [
    "### Saving plots"
   ]
  },
  {
   "cell_type": "markdown",
   "metadata": {},
   "source": [
    "Plots can be saved as *pdf*, *png*, *jpg* among other formats.\n",
    "Let's save a plot in a file called \"myplot.jpg\""
   ]
  },
  {
   "cell_type": "code",
   "execution_count": null,
   "metadata": {},
   "outputs": [],
   "source": [
    "jpeg(\"myplot.jpg\")\n",
    "plot(X, Y, pch=21, bg='red')\n",
    "dev.off()"
   ]
  },
  {
   "cell_type": "markdown",
   "metadata": {},
   "source": [
    "Several plots can be saved using *pdf* files. This example has\n",
    "two plots in it."
   ]
  },
  {
   "cell_type": "code",
   "execution_count": null,
   "metadata": {},
   "outputs": [],
   "source": [
    "pdf(\"myplots.pdf\")\n",
    "# make whatever plot you want\n",
    "# first page\n",
    "plot(X, Y, pch=21, bg='red')\n",
    "\n",
    "# a new call to plot will make a new page\n",
    "plot(Y, X, pch=23, bg='blue')\n",
    "\n",
    "# close the current \"device\" which is this pdf file\n",
    "dev.off()\n",
    "\n"
   ]
  },
  {
   "cell_type": "markdown",
   "metadata": {},
   "source": [
    "### Loops"
   ]
  },
  {
   "cell_type": "markdown",
   "metadata": {},
   "source": [
    "It is easy to use *for* loops in R"
   ]
  },
  {
   "cell_type": "code",
   "execution_count": null,
   "metadata": {},
   "outputs": [],
   "source": [
    "for (i in 1:10) {\n",
    "    print(i^2)\n",
    "}"
   ]
  },
  {
   "cell_type": "code",
   "execution_count": null,
   "metadata": {},
   "outputs": [],
   "source": [
    "for (w in c('red', 'blue', 'green')) {\n",
    "    print(w)\n",
    "}"
   ]
  },
  {
   "cell_type": "markdown",
   "metadata": {},
   "source": [
    "Note that big loops can get really slow, a\n",
    "drawback of many high-level languages."
   ]
  },
  {
   "cell_type": "markdown",
   "metadata": {},
   "source": [
    "### Builtin help"
   ]
  },
  {
   "cell_type": "markdown",
   "metadata": {},
   "source": [
    "R has a builtin help system, which can be accessed and searched as follows\n",
    "\n",
    "    > help(t.test)\n",
    "    > help.search('t.test')\n",
    "\n",
    "Many objects also have examples that show you their usage\n",
    "\n",
    "    > example(lm)"
   ]
  },
  {
   "cell_type": "code",
   "execution_count": null,
   "metadata": {},
   "outputs": [],
   "source": [
    "help(t.test)"
   ]
  },
  {
   "cell_type": "code",
   "execution_count": null,
   "metadata": {},
   "outputs": [],
   "source": [
    "example(lm)"
   ]
  },
  {
   "cell_type": "markdown",
   "metadata": {},
   "source": [
    "### Distributions in R"
   ]
  },
  {
   "cell_type": "markdown",
   "metadata": {},
   "source": [
    "In practice, we will often be using the distribution (CDF), quantile (inverse\n",
    "CDF) of standard random variables like the *T*, *F*, chi-squared and normal.\n",
    "\n",
    "\n",
    "The standard 1.96 (about 2) standard deviation rule for $\\alpha=0.05$:\n",
    "(note that 1-0.05/2=0.975)\n"
   ]
  },
  {
   "cell_type": "code",
   "execution_count": null,
   "metadata": {},
   "outputs": [],
   "source": [
    "qnorm(0.975)"
   ]
  },
  {
   "cell_type": "markdown",
   "metadata": {},
   "source": [
    "We might want the $\\alpha=0.05$ upper quantile for an F with 2,40 degrees of \n",
    "freedom:"
   ]
  },
  {
   "cell_type": "code",
   "execution_count": null,
   "metadata": {},
   "outputs": [],
   "source": [
    "qf(0.95, 2, 40)"
   ]
  },
  {
   "cell_type": "markdown",
   "metadata": {},
   "source": [
    "So, any observed F greater than 3.23 will get rejected at the $\\alpha=0.05$ level.\n",
    "Alternatively, we might have observed an F of 5 with\n",
    "2, 40 degrees of freedom, and want the p-value"
   ]
  },
  {
   "cell_type": "code",
   "execution_count": null,
   "metadata": {},
   "outputs": [],
   "source": [
    "1 - pf(5, 2, 40)"
   ]
  },
  {
   "cell_type": "markdown",
   "metadata": {},
   "source": [
    "Let's compare this p-value with a \n",
    "chi-squared with 2 degrees of freedom,\n",
    "which is like an F with infinite\n",
    "degrees of freedom in the denominator (send 40 to infinity).\n",
    "We also should multiply the 5 by 2\n",
    "because it's divided by 2 (numerator\n",
    "degrees of freedom) in the F."
   ]
  },
  {
   "cell_type": "code",
   "execution_count": null,
   "metadata": {},
   "outputs": [],
   "source": [
    "c(1 - pchisq(5*2, 2), 1 - pf(5, 2, 4000))"
   ]
  },
  {
   "cell_type": "markdown",
   "metadata": {},
   "source": [
    "Other common distributions used in applied statistics are `norm` and `t`."
   ]
  },
  {
   "cell_type": "markdown",
   "metadata": {},
   "source": [
    "### Other references"
   ]
  },
  {
   "cell_type": "markdown",
   "metadata": {},
   "source": [
    "* [An Introduction to R](http://cran.r-project.org/doc/manuals/R-intro.pdf)\n",
    "  \n",
    "* [R for Beginners](http://cran.r-project.org/doc/contrib/Paradis-rdebuts_en.pdf)\n",
    "\n",
    "* [Modern Applied Statistics with S](http://www.stats.ox.ac.uk/pub/MASS4/)\n",
    "\n",
    "* [Practical  ANOVA and Regression in R](http://cran.r-project.org/doc/contrib/Faraway-PRA.pdf)\n",
    "\n",
    "* [simpleR](http://cran.r-project.org/doc/contrib/Verzani-SimpleR.pdf)\n",
    "\n",
    "* [R Reference Card](http://cran.r-project.org/doc/contrib/Short-refcard.pdf)\n",
    "\n",
    "* [R Manuals](http://cran.r-project.org/manuals.html)\n",
    "\n",
    "* [R Wiki](http://wiki.r-project.org/)\n",
    "\n"
   ]
  }
 ],
 "metadata": {
  "anaconda-cloud": {},
  "kernelspec": {
   "display_name": "R",
   "language": "R",
   "name": "ir"
  },
  "language_info": {
   "codemirror_mode": "r",
   "file_extension": ".r",
   "mimetype": "text/x-r-source",
   "name": "R",
   "pygments_lexer": "r",
   "version": "3.3.1"
  }
 },
 "nbformat": 4,
 "nbformat_minor": 0
}
