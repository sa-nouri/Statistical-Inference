{
 "cells": [
  {
   "cell_type": "code",
   "execution_count": null,
   "metadata": {},
   "outputs": [],
   "source": [
    "library(selectiveInference)"
   ]
  },
  {
   "cell_type": "code",
   "execution_count": null,
   "metadata": {},
   "outputs": [],
   "source": [
    "X = matrix(rnorm(2000), 100, 20)\n",
    "nsim = 1000"
   ]
  },
  {
   "cell_type": "code",
   "execution_count": null,
   "metadata": {},
   "outputs": [],
   "source": [
    "exactP_A = c()\n",
    "splitP_A = c()\n",
    "exactL = c()\n",
    "splitL = c()\n",
    "\n",
    "beta1 = .3 # signal size\n",
    "\n",
    "for (i in 1:nsim) {\n",
    "    Z = rnorm(nrow(X)) + X[,1] * beta1 \n",
    "    \n",
    "    # selectiveInference\n",
    "    \n",
    "    fsfit = fs(X, Z, maxsteps=1)\n",
    "    fsinf = fsInf(fsfit, sigma=1)\n",
    "    exactP_A = c(exactP_A, fsinf$pv[1])\n",
    "    exactL = c(exactL, fsinf$ci[1,2] - fsinf$ci[1,1])\n",
    "\n",
    "    # data splitting pvalue\n",
    "    \n",
    "    split_ = c(rep(FALSE, nrow(X)/2), rep(TRUE, nrow(X)/2))[sample(1:nrow(X), nrow(X), replace=FALSE)]\n",
    "    fsfit = fs(X[split_,], Z[split_], maxsteps=1)\n",
    "    split.lm = lm(Z ~ X[,fsinf$vars[1]], subset=!split_)\n",
    "    splitP_A = c(splitP_A, summary(split.lm)$coef[2,4])\n",
    "    conf = confint(split.lm, level=0.9)\n",
    "    splitL = c(splitL, conf[2,2] - conf[2,1])\n",
    "\n",
    "}"
   ]
  },
  {
   "cell_type": "code",
   "execution_count": null,
   "metadata": {},
   "outputs": [],
   "source": [
    "plot(ecdf(exactP_A), lwd=3, col='blue', xlim=c(0,1))\n",
    "plot(ecdf(splitP_A), lwd=3, col='red', add=TRUE)\n",
    "abline(0,1, lwd=2, lty=2)"
   ]
  },
  {
   "cell_type": "code",
   "execution_count": null,
   "metadata": {},
   "outputs": [],
   "source": [
    "data.frame(median(exactL), median(splitL))"
   ]
  },
  {
   "cell_type": "markdown",
   "metadata": {},
   "source": [
    "## $\\beta=0.5$"
   ]
  },
  {
   "cell_type": "code",
   "execution_count": null,
   "metadata": {},
   "outputs": [],
   "source": [
    "exactP_A = c()\n",
    "splitP_A = c()\n",
    "exactL = c()\n",
    "splitL = c()\n",
    "\n",
    "beta1 = .5 # signal size\n",
    "\n",
    "for (i in 1:nsim) {\n",
    "    Z = rnorm(nrow(X)) + X[,1] * beta1 \n",
    "    \n",
    "    # selectiveInference\n",
    "    \n",
    "    fsfit = fs(X, Z, maxsteps=1)\n",
    "    fsinf = fsInf(fsfit, sigma=1)\n",
    "    exactP_A = c(exactP_A, fsinf$pv[1])\n",
    "    exactL = c(exactL, fsinf$ci[1,2] - fsinf$ci[1,1])\n",
    "\n",
    "    # data splitting pvalue\n",
    "    \n",
    "    split_ = c(rep(FALSE, nrow(X)/2), rep(TRUE, nrow(X)/2))[sample(1:nrow(X), nrow(X), replace=FALSE)]\n",
    "    fsfit = fs(X[split_,], Z[split_], maxsteps=1)\n",
    "    split.lm = lm(Z ~ X[,fsinf$vars[1]], subset=!split_)\n",
    "    splitP_A = c(splitP_A, summary(split.lm)$coef[2,4])\n",
    "    conf = confint(split.lm, level=0.9)\n",
    "    splitL = c(splitL, conf[2,2] - conf[2,1])\n",
    "\n",
    "}"
   ]
  },
  {
   "cell_type": "code",
   "execution_count": null,
   "metadata": {},
   "outputs": [],
   "source": [
    "plot(ecdf(exactP_A), lwd=3, col='blue', xlim=c(0,1))\n",
    "plot(ecdf(splitP_A), lwd=3, col='red', add=TRUE)\n",
    "abline(0,1, lwd=2, lty=2)"
   ]
  },
  {
   "cell_type": "code",
   "execution_count": null,
   "metadata": {},
   "outputs": [],
   "source": [
    "data.frame(median(exactL), median(splitL))"
   ]
  }
 ],
 "metadata": {
  "kernelspec": {
   "display_name": "R",
   "language": "R",
   "name": "ir"
  },
  "language_info": {
   "codemirror_mode": "r",
   "file_extension": ".r",
   "mimetype": "text/x-r-source",
   "name": "R",
   "pygments_lexer": "r",
   "version": "3.3.1"
  }
 },
 "nbformat": 4,
 "nbformat_minor": 2
}
