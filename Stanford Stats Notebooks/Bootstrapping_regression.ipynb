{
 "cells": [
  {
   "cell_type": "markdown",
   "metadata": {
    "slideshow": {
     "slide_type": "slide"
    }
   },
   "source": [
    "# Bootstrapping linear regression\n",
    "\n",
    "- We've talked about correcting our regression estimator in two contexts: WLS (weighted least squares) and GLS.\n",
    "\n",
    "- Both require a model of the errors for the correction.\n",
    "\n",
    "- In both cases, we use a two stage procedure to \"whiten\" the data and use the OLS model on the \"whitened\" data.\n",
    "\n",
    "- **What if we don't have a model for the errors?**\n",
    "\n",
    "- **We will use the <a href=\"https://en.wikipedia.org/wiki/Bootstrapping_(statistics)\">bootstrap</a>!**"
   ]
  },
  {
   "cell_type": "markdown",
   "metadata": {
    "slideshow": {
     "slide_type": "slide"
    }
   },
   "source": [
    "# Bootstrapping linear regression\n",
    "\n",
    "- Suppose we think of the pairs $(X_i, Y_i)$ coming from some distribution $F$ -- this is a distribution\n",
    "for *both the features and the outcome.*\n",
    "\n",
    "- Note: this is different than our usual model up to this point. Our usual model says that\n",
    "$$\n",
    "Y_{n \\times 1} | X_{n \\times p} \\sim N(X\\beta, \\sigma^2 I)\n",
    "$$\n",
    "(or our WLS / GLS models for error).\n",
    "\n",
    "- **We have essentially treated $X$ as fixed.**\n",
    "\n",
    "- In our usual model, $\\beta$ is clearly defined. What is $\\beta$ without this assumption?"
   ]
  },
  {
   "cell_type": "markdown",
   "metadata": {
    "slideshow": {
     "slide_type": "slide"
    }
   },
   "source": [
    "# Population least squares\n",
    "\n",
    "- For our distribution $F$, we can define\n",
    "$$\n",
    "E_F[\\pmb{X}\\pmb{X}^T], \\qquad E_F[\\pmb{X} \\cdot \\pmb{Y}]\n",
    "$$\n",
    "where $(\\pmb{X}, \\pmb{Y}) \\sim F$ leading to\n",
    "$$\n",
    "\\beta(F) = \\left(E_F[\\pmb{X}\\pmb{X}^T]\\right)^{-1} E_F[\\pmb{X} \\cdot \\pmb{Y}].\n",
    "$$\n",
    "\n",
    "- In fact, our least squares estimator is\n",
    "$\\beta(\\hat{F}_n)$ where $\\hat{F}_n$ is the *empirical distribution* of our sample of $n$ observations from $F$."
   ]
  },
  {
   "cell_type": "markdown",
   "metadata": {
    "slideshow": {
     "slide_type": "slide"
    }
   },
   "source": [
    "# Population least squares\n",
    "\n",
    "- As we take a larger and larger sample, \n",
    "$$\n",
    "\\beta(\\hat{F}_n) \\to \\beta(F)\n",
    "$$\n",
    "and\n",
    "$$\n",
    "n^{1/2}(\\beta(\\hat{F}_n) - \\beta(F)) \\to N(0, \\Sigma(F))\n",
    "$$\n",
    "for some covariance matrix $\\Sigma=\\Sigma(F)$ depending only on $F$.\n",
    "\n",
    "- Recall the variance of OLS estimator (with $X$ fixed):\n",
    "$$\n",
    "(X^TX)^{-1} \\text{Var}(X^TY) (X^TX)^{-1}.\n",
    "$$\n",
    "\n",
    "- With $X$ random and $n$ large this is approximately\n",
    "$$\n",
    "\\frac{1}{n} \\left(E_F[\\pmb{X}\\pmb{X}^T] \\right)^{-1} \\text{Var}_F(\\pmb{X} \\cdot \\pmb{Y}) \\left(E_F[\\pmb{X}\\pmb{X}^T] \\right)^{-1}.\n",
    "$$"
   ]
  },
  {
   "cell_type": "markdown",
   "metadata": {
    "slideshow": {
     "slide_type": "slide"
    }
   },
   "source": [
    "# Population least squares\n",
    "\n",
    "- In usual model, $\\text{Var}(X^TY) = \\sigma^2 X^TX \\approx n E_F[\\pmb{X} \\pmb{X}^T]$. In WLS model it is $X^TW^{-1}X$ (or, rather, its expectation)\n",
    "where $W$ might come from some model.\n",
    "\n",
    "- **In this setting we will use OLS estimate -- but correct its variance!**\n",
    "\n",
    "- **Can we get our hands on $\\text{Var}(X^TY)$ or $\\text{Var}(\\hat{\\beta})$ without a model?**"
   ]
  },
  {
   "cell_type": "markdown",
   "metadata": {
    "slideshow": {
     "slide_type": "slide"
    }
   },
   "source": [
    "# Nonparametric bootstrap in a nutshell\n",
    "\n",
    "## Basic algorithm for pairs\n",
    "\n",
    "There are many variants of the bootstrap, most using roughly this structure\n",
    "\n",
    "    boot_sample = c()\n",
    "    for (b in 1:B) {\n",
    "        idx_star = sample(1:n, n, replace=TRUE)\n",
    "        X_star = X[idx_star,]\n",
    "        Y_star = Y[idx_star]\n",
    "        boot_sample = rbind(boot_sample, coef(lm(Y_star ~ X_star)))\n",
    "    }\n",
    "    cov_beta_boot = cov(boot_sample)\n",
    "    \n",
    "   "
   ]
  },
  {
   "cell_type": "markdown",
   "metadata": {
    "slideshow": {
     "slide_type": "slide"
    }
   },
   "source": [
    "# Nonparametric bootstrap in a nutshell\n",
    "\n",
    "- Estimated covariance `cov_beta_boot` can be used to estimate\n",
    "$\\text{Var}(a^T\\hat{\\beta})$ for confidence intervals\n",
    "or general linear hypothesis tests.\n",
    "\n",
    "- Software does something slightly different -- using percentiles of the bootstrap sample: *bootstrap percentile intervals*."
   ]
  },
  {
   "cell_type": "markdown",
   "metadata": {
    "slideshow": {
     "slide_type": "slide"
    }
   },
   "source": [
    "# Bootstrapping regression\n",
    "\n",
    "\n",
    "### [Reference for more R examples](https://socialsciences.mcmaster.ca/jfox/Books/Companion/appendices/Appendix-Bootstrapping.pdf)"
   ]
  },
  {
   "cell_type": "code",
   "execution_count": null,
   "metadata": {
    "slideshow": {
     "slide_type": "fragment"
    }
   },
   "outputs": [],
   "source": [
    "library(car)\n",
    "n = 50\n",
    "X = rexp(n)\n",
    "Y = 3 + 2.5 * X + X * (rexp(n) - 1) # our usual model is false here! W=X^{-2}\n",
    "Y.lm = lm(Y ~ X)\n",
    "confint(Y.lm) "
   ]
  },
  {
   "cell_type": "code",
   "execution_count": null,
   "metadata": {
    "slideshow": {
     "slide_type": "fragment"
    }
   },
   "outputs": [],
   "source": [
    "pairs.Y.lm = Boot(Y.lm, coef, method='case', R=1000)\n",
    "confint(pairs.Y.lm, type='norm') # using bootstrap SE\n",
    "confint(pairs.Y.lm, type='perc') # using percentiles"
   ]
  },
  {
   "cell_type": "markdown",
   "metadata": {
    "slideshow": {
     "slide_type": "slide"
    }
   },
   "source": [
    "## Using the `boot` package\n",
    "\n",
    "- The `Boot` function in `car` is a wrapper around the more general `boot` function. \n",
    "\n",
    "- Here is an example using `boot`."
   ]
  },
  {
   "cell_type": "code",
   "execution_count": null,
   "metadata": {
    "slideshow": {
     "slide_type": "fragment"
    }
   },
   "outputs": [],
   "source": [
    "library(boot)\n",
    "D = data.frame(X, Y)\n",
    "bootstrap_stat = function(D, bootstrap_idx) {\n",
    "    return(summary(lm(Y ~ X, data=D[bootstrap_idx,]))$coef[,1])\n",
    "}\n",
    "boot_results = boot(D, bootstrap_stat, R=500)\n",
    "confint(boot_results, type='norm') # using bootstrap SE\n",
    "confint(boot_results, type='perc') # using percentiles"
   ]
  },
  {
   "cell_type": "markdown",
   "metadata": {
    "slideshow": {
     "slide_type": "slide"
    }
   },
   "source": [
    "## How is the coverage?\n",
    "\n",
    "- First we'll use the standard regression model but errors that aren't Gaussian."
   ]
  },
  {
   "cell_type": "code",
   "execution_count": null,
   "metadata": {
    "slideshow": {
     "slide_type": "fragment"
    }
   },
   "outputs": [],
   "source": [
    "noise = function(n) { return(rexp(n) - 1) }\n",
    "\n",
    "simulate_correct = function(n=100, b=0.5) {\n",
    "    X = rexp(n)\n",
    "    Y = 3 + b * X + noise(n)\n",
    "    Y.lm = lm(Y ~ X)\n",
    "\n",
    "    # parametric interval\n",
    "    int_param = confint(Y.lm)[2,]\n",
    "    \n",
    "    # pairs bootstrap interval   \n",
    "    pairs.Y.lm = Boot(Y.lm, coef, method='case', R=1000)\n",
    "    pairs_SE = sqrt(cov(pairs.Y.lm$t)[2,2]) # $t is the bootstrap sample\n",
    "    int_pairs = c(coef(Y.lm)[2] - qnorm(0.975) * pairs_SE,\n",
    "                  coef(Y.lm)[2] + qnorm(0.975) * pairs_SE)\n",
    "\n",
    "    result = c((int_param[1] < b) * (int_param[2] > b),\n",
    "              (int_pairs[1] < b) * (int_pairs[2] > b))\n",
    "    names(result) = c('parametric', 'bootstrap')\n",
    "    return(result)\n",
    "}"
   ]
  },
  {
   "cell_type": "markdown",
   "metadata": {
    "slideshow": {
     "slide_type": "slide"
    }
   },
   "source": [
    "## Check one instance"
   ]
  },
  {
   "cell_type": "code",
   "execution_count": null,
   "metadata": {
    "slideshow": {
     "slide_type": "fragment"
    }
   },
   "outputs": [],
   "source": [
    "simulate_correct()"
   ]
  },
  {
   "cell_type": "markdown",
   "metadata": {
    "slideshow": {
     "slide_type": "fragment"
    }
   },
   "source": [
    "## Check coverage"
   ]
  },
  {
   "cell_type": "code",
   "execution_count": null,
   "metadata": {
    "slideshow": {
     "slide_type": "fragment"
    }
   },
   "outputs": [],
   "source": [
    "nsim = 100\n",
    "coverage = c()\n",
    "for (i in 1:nsim) {\n",
    "    coverage = rbind(coverage, simulate_correct())\n",
    "}\n",
    "print(apply(coverage, 2, mean))"
   ]
  },
  {
   "cell_type": "markdown",
   "metadata": {
    "slideshow": {
     "slide_type": "slide"
    }
   },
   "source": [
    "## Misspecified model\n",
    "\n",
    "- Now we make data for which we might have used WLS **but we don't have a model for the weights!**"
   ]
  },
  {
   "cell_type": "code",
   "execution_count": null,
   "metadata": {
    "slideshow": {
     "slide_type": "fragment"
    }
   },
   "outputs": [],
   "source": [
    "simulate_incorrect = function(n=100, b=0.5) {\n",
    "    X = rexp(n)\n",
    "    # the usual model is \n",
    "    # quite off here -- Var(X^TY) is not well\n",
    "    # approximated by sigma^2 * X^TX...\n",
    "    Y = 3 + b * X + X * noise(n)\n",
    "    Y.lm = lm(Y ~ X)\n",
    "\n",
    "    # parametric interval\n",
    "    int_param = confint(Y.lm)[2,]\n",
    "    \n",
    "    # pairs bootstrap interval\n",
    "    pairs.Y.lm = Boot(Y.lm, coef, method='case', R=1000)\n",
    "    pairs_SE = sqrt(cov(pairs.Y.lm$t)[2,2]) # $t is the bootstrap sample of coefficients\n",
    "                                            # we want the 2nd coefficient\n",
    "    int_pairs = c(coef(Y.lm)[2] - qnorm(0.975) * pairs_SE,\n",
    "                  coef(Y.lm)[2] + qnorm(0.975) * pairs_SE)\n",
    "\n",
    "    result = c((int_param[1] < b) * (int_param[2] > b),\n",
    "              (int_pairs[1] < b) * (int_pairs[2] > b))\n",
    "    \n",
    "    names(result) = c('parametric', 'bootstrap')\n",
    "    return(result)\n",
    "}"
   ]
  },
  {
   "cell_type": "markdown",
   "metadata": {
    "slideshow": {
     "slide_type": "slide"
    }
   },
   "source": [
    "## Check one instance"
   ]
  },
  {
   "cell_type": "code",
   "execution_count": null,
   "metadata": {
    "slideshow": {
     "slide_type": "fragment"
    }
   },
   "outputs": [],
   "source": [
    "simulate_incorrect()"
   ]
  },
  {
   "cell_type": "markdown",
   "metadata": {
    "slideshow": {
     "slide_type": "fragment"
    }
   },
   "source": [
    "## Check coverage"
   ]
  },
  {
   "cell_type": "code",
   "execution_count": null,
   "metadata": {
    "slideshow": {
     "slide_type": "fragment"
    }
   },
   "outputs": [],
   "source": [
    "nsim = 100\n",
    "coverage = c()\n",
    "for (i in 1:nsim) {\n",
    "    coverage = rbind(coverage, simulate_incorrect())\n",
    "}\n",
    "\n",
    "print(apply(coverage, 2, mean))"
   ]
  }
 ],
 "metadata": {
  "celltoolbar": "Slideshow",
  "kernelspec": {
   "display_name": "R",
   "language": "R",
   "name": "ir"
  },
  "language_info": {
   "codemirror_mode": "r",
   "file_extension": ".r",
   "mimetype": "text/x-r-source",
   "name": "R",
   "pygments_lexer": "r",
   "version": "3.3.3"
  }
 },
 "nbformat": 4,
 "nbformat_minor": 1
}
